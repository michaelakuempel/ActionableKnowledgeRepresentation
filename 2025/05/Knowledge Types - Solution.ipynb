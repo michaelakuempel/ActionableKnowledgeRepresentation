{
 "cells": [
  {
   "cell_type": "markdown",
   "id": "4a356a57",
   "metadata": {},
   "source": [
    "# Types of Knowledge (Knowledge Acquisition 1) - Solutions\n",
    "\n",
    "In this exercise you familiarise yourself with different knowledge sources that could help you in gathering the necessary knowledge for your group project. We will start by looking in more, practical detail at the sources WordNet, DBpedia & ConceptNet you heard about in the lecture. Afterwards you will come together in your group to think about the knowledge types and resources that suit your domain."
   ]
  },
  {
   "cell_type": "markdown",
   "id": "551bce90",
   "metadata": {},
   "source": [
    "## 01 - Using WordNet\n",
    "\n",
    "One powerful resource for collecting lexical knowledge and connecting words with their semantic meaning is WordNet. It can be accessed either through a [webinterface](http://wordnetweb.princeton.edu/perl/webwn) or through a Python library. A brief overview over the library and its most important functions can be seen below:\n",
    "\n",
    "```Python\n",
    "import nltk # import the natural language toolkit\n",
    "nltk.download('wordnet') # download the wordnet corpus used for accessing wordnet\n",
    "nltk.download('punkt') # download the punkt library necessary for using the LESK algorithm\n",
    "nltk.download('averaged_perceptron_tagger') # download the part-of-speech tagger used by the LESK algorithm\n",
    "\n",
    "from nltk.corpus import wordnet as wn # import the wordnet library \n",
    "synset = wn.synset('movie.n.01') # get a specific WordNet synset\n",
    "synset.lemma_names() # get all synonyms that are part of this synset\n",
    "synset.hyponyms() # get the hyponyms for the synset\n",
    "synset.hypernyms() # get the hypernyms for the synset\n",
    "\n",
    "import pywsd.lesk as lesk # import the LESK Algorithm used for automatically getting the synset\n",
    "synset = lesk.simple_lesk(example_sentence, word, pos='v') # algorithm that returns the most probable synset based on the usage of 'word' in the 'example_sentence'. pos can be provided to specify the role of the word in the sentence (e.g. 'v' for 'verb or 'n' for noun)\n",
    "```\n",
    "\n",
    "**Tasks:**"
   ]
  },
  {
   "cell_type": "code",
   "execution_count": null,
   "id": "32e6dd98",
   "metadata": {
    "is_executing": true
   },
   "outputs": [],
   "source": [
    "### a) What are the synonyms for 'Movie'?\n",
    "from nltk.corpus import wordnet as wn\n",
    "synset = wn.synset('movie.n.01')\n",
    "print(synset.lemma_names())"
   ]
  },
  {
   "cell_type": "code",
   "execution_count": null,
   "id": "614cf64f",
   "metadata": {
    "scrolled": true
   },
   "outputs": [],
   "source": [
    "### b) Write a function that prints all hypernyms for a given synset (direct as well as indirect hypernyms).\n",
    "### You can verify your code using the 'fruit.n.01' synset. \n",
    "### The hypernyms are: 'reproductive_structure.n.01', 'plant_organ.n.01', 'plant_part.n.01', 'natural_object.n.01', 'whole.n.02', 'object.n.01', 'physical_entity.n.01', 'entity.n.01'\n",
    "\n",
    "def get_hypernyms(synset):\n",
    "    curr_hyps = synset.hypernyms()\n",
    "    for hyp in curr_hyps:\n",
    "        print(hyp)\n",
    "        if hyp.hypernyms():\n",
    "            get_hypernyms(hyp)\n",
    "\n",
    "from nltk.corpus import wordnet as wn\n",
    "fruits = wn.synset('fruit.n.01')\n",
    "get_hypernyms(fruits)"
   ]
  },
  {
   "cell_type": "code",
   "execution_count": null,
   "id": "bfc77c9e",
   "metadata": {},
   "outputs": [],
   "source": [
    "### c) Take the following text and count how many different meanings of the word 'cut' occur:\n",
    "txt = 'Sarah attempted to cut through the dense forest with her trusty machete. She couldn\\'t help but notice a cut on her finger from the sharp blade. The thick foliage seemed to resist her every effort, making each cut through the branches a struggle. Suddenly, she stumbled upon a clearing where sunlight cut through the trees, illuminating the vibrant colors of the wildflowers scattered around. Taking a moment to catch her breath, Sarah realized she needed to cut her losses and find another path. Her initial plan had been cut short by the unforgiving terrain. With determination, she adjusted her course, ready to cut across the forest in a new direction, hoping to reach her destination before nightfall.'\n",
    "\n",
    "import pywsd.lesk as lesk\n",
    "sentences = txt.split(\".\")\n",
    "mean = {}\n",
    "for s in sentences:\n",
    "    syn = lesk.simple_lesk(s, 'cut')\n",
    "    if syn in mean:\n",
    "        mean[syn] += 1\n",
    "    else:\n",
    "        mean[syn] = 1\n",
    "        \n",
    "print(f\"{len(mean)} different meanings occur:\")\n",
    "for m in mean:\n",
    "    print(f\"{m} - {mean[m]}\")"
   ]
  },
  {
   "cell_type": "markdown",
   "id": "263272c0",
   "metadata": {},
   "source": [
    "## 02 - Navigating DBpedia\n",
    "Since DBpedia contains the same knowledge as Wikipedia, it is possible to also play the [Wikipedia Race](https://en.wikipedia.org/wiki/Wikipedia:Wiki_Game). For this, you start on a specific page and try to navigate to another, pre-defined page. \n",
    "\n",
    "Starting Page: [Afrika](https://dbpedia.org/page/Africa)\n",
    "\n",
    "Destination: [Freie Hansestadt Bremen](https://dbpedia.org/page/Bremen)\n",
    "\n",
    "Please note the relations you chose so that you can reconstruct the steps along your navigation path. Is it possible to use the same relations to navigate back?"
   ]
  },
  {
   "cell_type": "markdown",
   "id": "b62db19a",
   "metadata": {
    "ExecuteTime": {
     "end_time": "2024-04-02T14:42:12.933663Z",
     "start_time": "2024-04-02T14:41:57.419280Z"
    }
   },
   "source": [
    "**Example:**\n",
    "\n",
    "_(dbr:Africa dbo:wikiPageWikiLink dbr:Togo)_\n",
    "\n",
    "_(dbr:Togo dbo:language dbr:German_language)_\n",
    "\n",
    "_(dbr:German_language dbp:commonLanguages dbr:Bremen-Verden)_\n",
    "\n",
    "_(dbr:Bremen-Verden dbo:wikiPageWikiLink dbr:Bremen)_"
   ]
  },
  {
   "cell_type": "markdown",
   "id": "4da825cb",
   "metadata": {},
   "source": [
    "## 03 - Extracting Related Concepts from ConceptNet\n",
    "\n",
    "As explained in the lecture, [ConceptNet](https://conceptnet.io/) is a semantic network focused on modelling commonsense knowledge. In this task you will access ConceptNet to return a list of related concepts to the provided word. To access ConceptNet, we will use the `requests` package as shown below. In addition to querying ConceptNet, you need to think about a suitable relation and whether it is bidirectional or not.\n",
    "\n",
    "```Python\n",
    "import requests # import the requests library\n",
    "url = f'http://api.conceptnet.io/c/en/{concept}' # base url appended with the concept to query for\n",
    "response = requests.get(url) # requesting the ConceptNet API\n",
    "data = response.json() # accessing the data in the JSON format\n",
    "```\n",
    "\n",
    "To check your solution, you can use the concept *fruit*, for which you should find the following related concepts: *['apple', 'grape', 'produce', 'orange', 'lemon', 'lime', 'raspberry', 'peach']*."
   ]
  },
  {
   "cell_type": "code",
   "execution_count": null,
   "id": "bf904f99",
   "metadata": {},
   "outputs": [],
   "source": [
    "import requests\n",
    "\n",
    "concept = \"fruit\"\n",
    "url = f'http://api.conceptnet.io/c/en/{concept}' \n",
    "response = requests.get(url)\n",
    "data = response.json()\n",
    "related_concepts = []\n",
    "\n",
    "for edge in data['edges']:\n",
    "    if edge['rel']['label'] == 'RelatedTo':\n",
    "        if edge['start']['label'] == concept:\n",
    "            related_concepts.append(edge['end']['label'])\n",
    "        else:\n",
    "            related_concepts.append(edge['start']['label'])\n",
    "\n",
    "print(f\"Related concepts for '{concept}': {related_concepts}\")"
   ]
  },
  {
   "cell_type": "code",
   "execution_count": null,
   "id": "d6ced4cd",
   "metadata": {},
   "outputs": [],
   "source": []
  }
 ],
 "metadata": {
  "kernelspec": {
   "display_name": "Python 3 (ipykernel)",
   "language": "python",
   "name": "python3"
  },
  "language_info": {
   "codemirror_mode": {
    "name": "ipython",
    "version": 3
   },
   "file_extension": ".py",
   "mimetype": "text/x-python",
   "name": "python",
   "nbconvert_exporter": "python",
   "pygments_lexer": "ipython3",
   "version": "3.8.10"
  }
 },
 "nbformat": 4,
 "nbformat_minor": 5
}
