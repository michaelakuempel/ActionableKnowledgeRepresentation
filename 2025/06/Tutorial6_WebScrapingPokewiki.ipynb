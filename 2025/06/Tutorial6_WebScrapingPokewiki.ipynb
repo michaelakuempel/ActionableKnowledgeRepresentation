{
 "cells": [
  {
   "cell_type": "markdown",
   "id": "feb3dab1",
   "metadata": {},
   "source": [
    "## Creating a taxonomy from a website\n",
    "\n",
    "#### Let us create a product taxonomy using owlready\n",
    "We first need to install owlready2 and beautiful soup (for accessing website content):"
   ]
  },
  {
   "cell_type": "code",
   "execution_count": 1,
   "id": "87421a46",
   "metadata": {},
   "outputs": [
    {
     "name": "stdout",
     "output_type": "stream",
     "text": [
      "Requirement already satisfied: bs4 in c:\\users\\simon\\appdata\\local\\programs\\python\\python312\\lib\\site-packages (0.0.2)\n",
      "Requirement already satisfied: beautifulsoup4 in c:\\users\\simon\\appdata\\local\\programs\\python\\python312\\lib\\site-packages (from bs4) (4.12.3)\n",
      "Requirement already satisfied: soupsieve>1.2 in c:\\users\\simon\\appdata\\local\\programs\\python\\python312\\lib\\site-packages (from beautifulsoup4->bs4) (2.5)\n",
      "Requirement already satisfied: owlready2 in c:\\users\\simon\\appdata\\local\\programs\\python\\python312\\lib\\site-packages (0.46)\n"
     ]
    }
   ],
   "source": [
    "!pip install bs4\n",
    "!pip install owlready2"
   ]
  },
  {
   "cell_type": "markdown",
   "id": "de03c932",
   "metadata": {},
   "source": [
    "### Let us now import the needed libraries"
   ]
  },
  {
   "cell_type": "code",
   "execution_count": 2,
   "id": "15949c7f",
   "metadata": {},
   "outputs": [],
   "source": [
    "import requests\n",
    "from bs4 import BeautifulSoup\t#HTML handler\n",
    "from owlready2 import *\n",
    "import time\n",
    "import json"
   ]
  },
  {
   "cell_type": "markdown",
   "id": "9655df02",
   "metadata": {},
   "source": [
    "### Continue with loading the ontology and defining the namespace"
   ]
  },
  {
   "cell_type": "code",
   "execution_count": 3,
   "id": "9156a5d0",
   "metadata": {},
   "outputs": [],
   "source": [
    "onto = get_ontology('http://TypeTaxonomyFromBulbagarden.owl#')\n",
    "\n",
    "# create a basic product class\n",
    "with onto:\n",
    "    class Types(Thing):\n",
    "        label = ['Types']\n",
    "        pass"
   ]
  },
  {
   "cell_type": "markdown",
   "id": "979aa38e",
   "metadata": {},
   "source": [
    "### Now let us declare the website we are gonna access"
   ]
  },
  {
   "cell_type": "code",
   "execution_count": 4,
   "id": "d587d4d2",
   "metadata": {},
   "outputs": [],
   "source": [
    "base_url = \"https://bulbapedia.bulbagarden.net/wiki/Type\""
   ]
  },
  {
   "cell_type": "markdown",
   "id": "7c861cb6",
   "metadata": {},
   "source": [
    "### This is the website we are gonna access. You can take a different one if you like"
   ]
  },
  {
   "attachments": {},
   "cell_type": "markdown",
   "id": "862088f1",
   "metadata": {},
   "source": [
    "![Bulbagarden.png](img/Bulbagarden.png \"Source 1\")"
   ]
  },
  {
   "cell_type": "markdown",
   "id": "09cd0253",
   "metadata": {},
   "source": [
    "## Right-click on the website and inspect the sourcecode. There, you can find tags that link to the subclasses you want to extract.\n",
    "### In this case, we are interested in retrieving the classes \"Normal\", \"Fire\", \"Gras\", ...\n",
    "#### The program shall extract the names of the subclasses, open the link to the page of the subclasses, and again extract the names of the subclasses. With this, we create a product taxonomy"
   ]
  },
  {
   "attachments": {},
   "cell_type": "markdown",
   "id": "3d005e20",
   "metadata": {},
   "source": [
    "#### When scrolling down a bit, we find a clock of code that consists of span elements (Compare line numbers in the image below). \n",
    "![Source1.png](img/Source1.png \"Source 1\")"
   ]
  },
  {
   "cell_type": "markdown",
   "id": "1e6dc840-8215-4359-9d0e-fb501e1afb86",
   "metadata": {},
   "source": [
    "#### Almost at the very end of each line of code, we find a header that contains the types we are looking for (e.g. \"Normal).\n",
    "![Source3.png](img/Source3.png \"Source 3\")"
   ]
  },
  {
   "cell_type": "markdown",
   "id": "7c0b2d79-a179-4e9c-ac43-c6e495795cb6",
   "metadata": {},
   "source": [
    "#### One challange, when scraping a page, is to make sure you extract the information from the lines that interest you. In this case for example, we are only interested in 18 of 3000+ lines. To do so, one has to get creative. In this case we take a spand element a startpoint. These span elements are within the lines shown above and define a unique form for the buttons, that correspond with each type on the website. This way, we ensure to only grab lines that contain the wanted information.\n",
    "![Source2.png](img/Source2.png \"Source 2\")"
   ]
  },
  {
   "cell_type": "markdown",
   "id": "001b30d2-3b98-4b4c-8415-370062a56ab9",
   "metadata": {},
   "source": [
    "### Now let us use beautiful soup to scrape the page"
   ]
  },
  {
   "cell_type": "code",
   "execution_count": 5,
   "id": "ec090d39-fca5-4662-b983-334ef6d93301",
   "metadata": {},
   "outputs": [],
   "source": [
    "# assign bulbagarden base url for subclasses\n",
    "pokeurl = \"https://bulbagarden.net/home/\"\n",
    "\n",
    "# access the URL\n",
    "response = requests.get(base_url)\n",
    "\n",
    "# create a HTML parser\n",
    "soup = BeautifulSoup(response.text, 'html.parser')\n",
    "\n",
    "# We look for each element of the \"span\" type. Usually one would folow up with something like \"style = True\" or \"href = True\", depending on the element type.\n",
    "# Instead we here use a trick: By utilizing a lambda function, we can look specifically for span elements with a style that has the given specifications\n",
    "for x in soup.find_all('span', {\"style\" : lambda L: L and L.startswith('margin: 0 5px 0 10px;')}):\n",
    "    # We repeat this but this time we only look within the lines we just extracted (so 18 instead of 3000+)\n",
    "    for header in x.find_all('span', {\"style\" : lambda L: L and L.startswith('color:#FFF')}):\n",
    "         with onto:\n",
    "            # We clean the line to only extract the header. \n",
    "            class_label = header.text.replace('\\n', '')\n",
    "            class_name = class_label.replace(' ', '').replace('&', 'And')\n",
    "            # We create a new class with our class_name. This is a subclass of the previously created \"Types\" class\".\n",
    "            pokemon_type = types.new_class(class_name, (onto.Types,))\n",
    "            # We append a lable to it.\n",
    "            pokemon_type.label.append(class_label)"
   ]
  },
  {
   "cell_type": "markdown",
   "id": "0ac909f1-11b9-4a4d-959c-d2aaa30bd420",
   "metadata": {},
   "source": [
    "### Test if the classes were assigned correctly\n",
    "Fun fact: \"???\" is an actual type that only existed throughout generations II. to IV."
   ]
  },
  {
   "cell_type": "code",
   "execution_count": 6,
   "id": "e01badcd-0a4a-4944-bd71-3ae03a5e329b",
   "metadata": {},
   "outputs": [
    {
     "name": "stdout",
     "output_type": "stream",
     "text": [
      "['Types']\n",
      "['Normal']\n",
      "['Fire']\n",
      "['Fighting']\n",
      "['Water']\n",
      "['Flying']\n",
      "['Grass']\n",
      "['Poison']\n",
      "['Electric']\n",
      "['Ground']\n",
      "['Psychic']\n",
      "['Rock']\n",
      "['Ice']\n",
      "['Bug']\n",
      "['Dragon']\n",
      "['Ghost']\n",
      "['Dark']\n",
      "['Steel']\n",
      "['Fairy']\n",
      "['Stellar']\n",
      "['???']\n"
     ]
    }
   ],
   "source": [
    "for cls in onto.classes():\n",
    "    print(cls.label)"
   ]
  },
  {
   "cell_type": "markdown",
   "id": "dbf2a265-6ac3-429f-b8e1-9a40209a9e8e",
   "metadata": {},
   "source": [
    "### Save the ontology and download to manually check"
   ]
  },
  {
   "cell_type": "code",
   "execution_count": 7,
   "id": "d1d6b247-3113-44b3-b668-001a7d17b629",
   "metadata": {},
   "outputs": [],
   "source": [
    "onto.save(file = \"TypeTaxonomyFromBulbagarden.owl\", format = \"rdfxml\")"
   ]
  },
  {
   "cell_type": "code",
   "execution_count": null,
   "id": "f66bb288-1e71-485b-b9a1-90e2ff0ad3b5",
   "metadata": {},
   "outputs": [],
   "source": []
  }
 ],
 "metadata": {
  "kernelspec": {
   "display_name": "Python 3 (ipykernel)",
   "language": "python",
   "name": "python3"
  },
  "language_info": {
   "codemirror_mode": {
    "name": "ipython",
    "version": 3
   },
   "file_extension": ".py",
   "mimetype": "text/x-python",
   "name": "python",
   "nbconvert_exporter": "python",
   "pygments_lexer": "ipython3",
   "version": "3.12.3"
  }
 },
 "nbformat": 4,
 "nbformat_minor": 5
}
