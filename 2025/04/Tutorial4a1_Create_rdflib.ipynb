{
 "cells": [
  {
   "cell_type": "markdown",
   "metadata": {},
   "source": [
    "## Getting started with triples - Creating a knowledge graph\n",
    "\n",
    "#### Let us create a simple triple example using rdflib: We create a Product knowledge graph!\n",
    "We first need to install rdflib:"
   ]
  },
  {
   "cell_type": "code",
   "execution_count": 1,
   "metadata": {},
   "outputs": [
    {
     "name": "stdout",
     "output_type": "stream",
     "text": [
      "Requirement already satisfied: rdflib in c:\\users\\micha\\appdata\\roaming\\python\\python36\\site-packages (5.0.0)\n",
      "Requirement already satisfied: isodate in c:\\users\\micha\\appdata\\roaming\\python\\python36\\site-packages (from rdflib) (0.6.1)\n",
      "Requirement already satisfied: pyparsing in c:\\program files (x86)\\microsoft visual studio\\shared\\anaconda3_64\\lib\\site-packages (from rdflib) (2.2.0)\n",
      "Requirement already satisfied: six in c:\\program files (x86)\\microsoft visual studio\\shared\\anaconda3_64\\lib\\site-packages (from rdflib) (1.11.0)\n"
     ]
    },
    {
     "name": "stderr",
     "output_type": "stream",
     "text": [
      "You are using pip version 10.0.1, however version 21.3.1 is available.\n",
      "You should consider upgrading via the 'python -m pip install --upgrade pip' command.\n"
     ]
    }
   ],
   "source": [
    "!pip install rdflib"
   ]
  },
  {
   "cell_type": "markdown",
   "metadata": {},
   "source": [
    "Now let us start using rdflib:\n",
    "- We first import the rdflib library and important packages"
   ]
  },
  {
   "cell_type": "code",
   "execution_count": 2,
   "metadata": {},
   "outputs": [],
   "source": [
    "# import rdflib\n",
    "from rdflib import Graph, Literal, URIRef, Namespace\n",
    "# rdflib knows about quite a few popular namespaces, like W3C ontologies, schema.org etc.\n",
    "from rdflib.namespace import OWL, RDF, RDFS, XSD"
   ]
  },
  {
   "cell_type": "markdown",
   "metadata": {},
   "source": [
    "- then we create a graph and define its namespace as well as shortcuts"
   ]
  },
  {
   "cell_type": "code",
   "execution_count": 4,
   "metadata": {},
   "outputs": [],
   "source": [
    "# Create empty Graph\n",
    "g = Graph()\n",
    "\n",
    "# Create prefix fs_kg with given namespace\n",
    "# You can define your own namespaces by passing any IRI and bind to an abbrevation\n",
    "productkg = Namespace(\"http://example.org/productkg#\")\n",
    "#even though the namespaces are imported already, they need to be bound to variables so they can be used\n",
    "g.bind(\"product\", productkg)\n",
    "g.bind(\"owl\", OWL)"
   ]
  },
  {
   "cell_type": "markdown",
   "metadata": {},
   "source": [
    "- next we create the class \"Product\" and a subclass \"Shampoo\" as well as an Individual and shortcuts for later use"
   ]
  },
  {
   "cell_type": "code",
   "execution_count": 6,
   "metadata": {},
   "outputs": [],
   "source": [
    "# Create an RDF URI node to use as the subject for multiple triples\n",
    "product = URIRef(\"http://example.org/productkg#Product\")\n",
    "shampoo = URIRef(\"http://example.org/productkg#Shampoo\")\n",
    "ElvitalDreamLengthShampoo123456 = URIRef(\"http://example.org/productkg#ElvitalDreamLengthShampoo\")"
   ]
  },
  {
   "cell_type": "markdown",
   "metadata": {},
   "source": [
    "- the class \"Product\" and \"Shampoo\" need to be defined in the graph (as in: What are parent classes? Where do they belong to?):\n",
    " - Create a class city as `RDFS:subClassOf` the main class: `OWL.Thing`\n",
    "  - Create a triple such that Bremen is of type City using `RDF.type`\n",
    "      - `RDF.type` is the equivalent to http://www.w3.org/1999/02/22-rdf-syntax-ns#type and imported with the namespaces"
   ]
  },
  {
   "cell_type": "code",
   "execution_count": 7,
   "metadata": {},
   "outputs": [],
   "source": [
    "# Add product as class (there always is a Thing class that can be parent), add subclass and instance of product.\n",
    "g.add((product, RDFS.subClassOf, OWL.Thing))\n",
    "g.add((shampoo, RDFS.subClassOf, product))\n",
    "g.add((ElvitalDreamLengthShampoo123456, RDF.type, shampoo))"
   ]
  },
  {
   "cell_type": "markdown",
   "metadata": {},
   "source": [
    "- Print the result"
   ]
  },
  {
   "cell_type": "code",
   "execution_count": 8,
   "metadata": {},
   "outputs": [
    {
     "name": "stdout",
     "output_type": "stream",
     "text": [
      "b'@prefix owl: <http://www.w3.org/2002/07/owl#> .\\n@prefix product: <http://example.org/productkg#> .\\n@prefix rdfs: <http://www.w3.org/2000/01/rdf-schema#> .\\n\\nproduct:ElvitalDreamLengthShampoo a product:Shampoo .\\n\\nproduct:Product rdfs:subClassOf owl:Thing .\\n\\nproduct:Shampoo rdfs:subClassOf product:Product .\\n\\n'\n"
     ]
    }
   ],
   "source": [
    "#Print graph in n3 triple format\n",
    "print(g.serialize(format='n3'))"
   ]
  },
  {
   "cell_type": "markdown",
   "metadata": {},
   "source": [
    "- Let us add a property"
   ]
  },
  {
   "cell_type": "code",
   "execution_count": 19,
   "metadata": {},
   "outputs": [],
   "source": [
    "#Add property URI\n",
    "hasBrand = URIRef(\"http://example.org/productkg#hasBrand\")\n",
    "\n",
    "#define it as property\n",
    "g.add((hasBrand, RDF.type, RDF.Property))\n",
    "\n",
    "#link it\n",
    "g.add((ElvitalDreamLengthShampoo123456, hasBrand, Literal(\"Elvital\")))"
   ]
  },
  {
   "cell_type": "code",
   "execution_count": 20,
   "metadata": {},
   "outputs": [
    {
     "name": "stdout",
     "output_type": "stream",
     "text": [
      "b'@prefix owl: <http://www.w3.org/2002/07/owl#> .\\n@prefix product: <http://example.org/productkg#> .\\n@prefix rdf: <http://www.w3.org/1999/02/22-rdf-syntax-ns#> .\\n@prefix rdfs: <http://www.w3.org/2000/01/rdf-schema#> .\\n\\nproduct:ElvitalDreamLengthShampoo a product:Shampoo ;\\n    product:hasBrand \"Elvital\" .\\n\\nproduct:hasBrand a rdf:Property .\\n\\nproduct:Product rdfs:subClassOf owl:Thing .\\n\\nproduct:Shampoo rdfs:subClassOf product:Product .\\n\\n'\n"
     ]
    }
   ],
   "source": [
    "#Print graph in n3 triple format\n",
    "print(g.serialize(format='n3'))"
   ]
  },
  {
   "cell_type": "markdown",
   "metadata": {},
   "source": [
    "#### Here is the whole code example:"
   ]
  },
  {
   "cell_type": "code",
   "execution_count": 21,
   "metadata": {
    "scrolled": true
   },
   "outputs": [
    {
     "name": "stdout",
     "output_type": "stream",
     "text": [
      "b'@prefix owl: <http://www.w3.org/2002/07/owl#> .\\n@prefix product: <http://example.org/productkg#> .\\n@prefix rdf: <http://www.w3.org/1999/02/22-rdf-syntax-ns#> .\\n@prefix rdfs: <http://www.w3.org/2000/01/rdf-schema#> .\\n\\nproduct:ElvitalDreamLengthShampoo a product:Shampoo ;\\n    product:hasBrand \"Elvital\" .\\n\\nproduct:hasBrand a rdf:Property .\\n\\nproduct:Product rdfs:subClassOf owl:Thing .\\n\\nproduct:Shampoo rdfs:subClassOf product:Product .\\n\\n'\n"
     ]
    }
   ],
   "source": [
    "# import rdflib\n",
    "from rdflib import Graph, Literal, URIRef, Namespace\n",
    "# rdflib knows about quite a few popular namespaces, like W3C ontologies, schema.org etc.\n",
    "from rdflib.namespace import OWL, RDF, RDFS, XSD\n",
    "\n",
    "# Create empty Graph\n",
    "g = Graph()\n",
    "\n",
    "# Create prefix fs_kg with given namespace\n",
    "# You can define your own namespaces by passing any IRI and bind to an abbrevation\n",
    "productkg = Namespace(\"http://example.org/productkg#\")\n",
    "#even though the namespaces are imported already, they need to be bound to variables so they can be used\n",
    "g.bind(\"product\", productkg)\n",
    "g.bind(\"owl\", OWL)\n",
    "\n",
    "# Create an RDF URI node to use as the subject for multiple triples\n",
    "product = URIRef(\"http://example.org/productkg#Product\")\n",
    "shampoo = URIRef(\"http://example.org/productkg#Shampoo\")\n",
    "ElvitalDreamLengthShampoo123456 = URIRef(\"http://example.org/productkg#ElvitalDreamLengthShampoo\")\n",
    "hasBrand = URIRef(\"http://example.org/productkg#hasBrand\")\n",
    "\n",
    "# Add product as class (there always is a Thing class that can be parent), add subclass and instance of product.\n",
    "g.add((product, RDFS.subClassOf, OWL.Thing))\n",
    "g.add((shampoo, RDFS.subClassOf, product))\n",
    "g.add((ElvitalDreamLengthShampoo123456, RDF.type, shampoo))\n",
    "g.add((hasBrand, RDF.type, RDF.Property))\n",
    "\n",
    "#link it\n",
    "g.add((ElvitalDreamLengthShampoo123456, hasBrand, Literal(\"Elvital\")))\n",
    "\n",
    "#Print graph in n3 triple format\n",
    "print(g.serialize(format='n3'))"
   ]
  }
 ],
 "metadata": {
  "kernelspec": {
   "display_name": "Python 3",
   "language": "python",
   "name": "python3"
  },
  "language_info": {
   "codemirror_mode": {
    "name": "ipython",
    "version": 3
   },
   "file_extension": ".py",
   "mimetype": "text/x-python",
   "name": "python",
   "nbconvert_exporter": "python",
   "pygments_lexer": "ipython3",
   "version": "3.6.5"
  }
 },
 "nbformat": 4,
 "nbformat_minor": 4
}
