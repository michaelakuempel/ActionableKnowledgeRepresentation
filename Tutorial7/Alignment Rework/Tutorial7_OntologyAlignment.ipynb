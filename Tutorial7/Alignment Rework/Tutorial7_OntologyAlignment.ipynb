{
 "cells": [
  {
   "cell_type": "markdown",
   "id": "4fd86cdb-53c6-456f-8115-1a5ee877c8ab",
   "metadata": {},
   "source": [
    "## Ontology Alignment\n",
    "\n",
    "In this Tutorial we will align the taxonomy created in Tutorial 6 with an upper ontology"
   ]
  },
  {
   "cell_type": "code",
   "execution_count": 1,
   "id": "875f560f-c103-4b16-8449-70b359676a82",
   "metadata": {},
   "outputs": [
    {
     "name": "stdout",
     "output_type": "stream",
     "text": [
      "Requirement already satisfied: owlready2 in c:\\users\\simon\\appdata\\local\\programs\\python\\python312\\lib\\site-packages (0.46)\n"
     ]
    },
    {
     "name": "stderr",
     "output_type": "stream",
     "text": [
      "\n",
      "[notice] A new release of pip is available: 24.2 -> 24.3.1\n",
      "[notice] To update, run: python.exe -m pip install --upgrade pip\n"
     ]
    }
   ],
   "source": [
    "!pip install owlready2"
   ]
  },
  {
   "cell_type": "markdown",
   "id": "43348495-873d-40fd-b85a-748a96c8a80f",
   "metadata": {},
   "source": [
    "### Let us first load an upper ontology, here the classes of bfo, and list its content"
   ]
  },
  {
   "cell_type": "code",
   "execution_count": 2,
   "id": "3bc80499-fa22-47b8-99de-a430405dc258",
   "metadata": {},
   "outputs": [
    {
     "data": {
      "text/plain": [
       "[owl.Thing,\n",
       " DUL.Agent,\n",
       " DUL.SocialAgent,\n",
       " DUL.Entity,\n",
       " DUL.Concept,\n",
       " DUL.Collection,\n",
       " DUL.SocialObject,\n",
       " DUL.InformationRealization,\n",
       " DUL.Object,\n",
       " DUL.Description,\n",
       " DUL.Role,\n",
       " DUL.Task,\n",
       " DUL.Action,\n",
       " DUL.InformationObject,\n",
       " DUL.Parameter,\n",
       " DUL.Event,\n",
       " DUL.Situation,\n",
       " DUL.Quality,\n",
       " DUL.Region,\n",
       " DUL.TimeInterval,\n",
       " DUL.Abstract,\n",
       " DUL.Amount,\n",
       " DUL.PhysicalAttribute,\n",
       " DUL.SpaceRegion,\n",
       " DUL.BiologicalObject,\n",
       " DUL.PhysicalBody,\n",
       " DUL.ChemicalObject,\n",
       " DUL.Classification,\n",
       " DUL.TimeIndexedRelation,\n",
       " DUL.Collective,\n",
       " DUL.CollectiveAgent,\n",
       " DUL.Community,\n",
       " DUL.Configuration,\n",
       " DUL.Contract,\n",
       " DUL.Design,\n",
       " DUL.DesignedArtifact,\n",
       " DUL.PhysicalArtifact,\n",
       " DUL.DesignedSubstance,\n",
       " DUL.FunctionalSubstance,\n",
       " DUL.Diagnosis,\n",
       " DUL.EventType,\n",
       " DUL.FormalEntity,\n",
       " DUL.Substance,\n",
       " DUL.Goal,\n",
       " DUL.Group,\n",
       " DUL.Plan,\n",
       " DUL.InformationEntity,\n",
       " DUL.PhysicalObject,\n",
       " DUL.LocalConcept,\n",
       " DUL.Method,\n",
       " DUL.Narrative,\n",
       " DUL.NaturalPerson,\n",
       " DUL.Person,\n",
       " DUL.PhysicalAgent,\n",
       " DUL.Norm,\n",
       " DUL.ObjectAggregate,\n",
       " DUL.Organism,\n",
       " DUL.Organization,\n",
       " DUL.Parthood,\n",
       " DUL.Pattern,\n",
       " DUL.Relation,\n",
       " DUL.Personification,\n",
       " DUL.PhysicalPlace,\n",
       " DUL.Place,\n",
       " DUL.PlanExecution,\n",
       " DUL.Process,\n",
       " DUL.Project,\n",
       " DUL.Right,\n",
       " DUL.Set,\n",
       " DUL.SocialObjectAttribute,\n",
       " DUL.SocialPerson,\n",
       " DUL.SocialRelation,\n",
       " DUL.SpatioTemporalRegion,\n",
       " DUL.Theory,\n",
       " DUL.Transition,\n",
       " DUL.TypeCollection,\n",
       " DUL.UnitOfMeasure,\n",
       " DUL.Workflow,\n",
       " DUL.WorkflowExecution]"
      ]
     },
     "execution_count": 2,
     "metadata": {},
     "output_type": "execute_result"
    }
   ],
   "source": [
    "from owlready2 import *\n",
    "\n",
    "onto = get_ontology(\"http://www.ease-crc.org/ont/DUL.owl\").load()\n",
    "\n",
    "list(onto.classes())"
   ]
  },
  {
   "cell_type": "markdown",
   "id": "d9888d13-8b42-43a9-bcf2-3abc50d545eb",
   "metadata": {},
   "source": [
    "#### Let us get the class relations\n",
    "\n",
    "For this, we create a second namespace for the loaded ontology (bfo), and list subclasses\n",
    "\n",
    "We can do this until we reach a class that might be a fit as upper class"
   ]
  },
  {
   "cell_type": "code",
   "execution_count": 3,
   "id": "e7219208-cbca-4401-ad85-105f6012f07f",
   "metadata": {},
   "outputs": [
    {
     "data": {
      "text/plain": [
       "[DUL.Object,\n",
       " DUL.Event,\n",
       " DUL.Situation,\n",
       " DUL.Quality,\n",
       " DUL.Abstract,\n",
       " DUL.InformationEntity]"
      ]
     },
     "execution_count": 3,
     "metadata": {},
     "output_type": "execute_result"
    }
   ],
   "source": [
    "dul = get_namespace(\"http://www.ontologydesignpatterns.org/ont/dul/DUL.owl#\")\n",
    "                    \n",
    "list(dul.Entity.subclasses())"
   ]
  },
  {
   "cell_type": "markdown",
   "id": "b94e475b-5b40-48b2-9d64-ebfdd52aae0e",
   "metadata": {},
   "source": [
    "#### Now we reached a point where I am unsure what class is suitable to be the superclass of the \"Types\" class of our taxonomy. In such situations, we can access the ontologie to get the class comment (rdfs.comment annotation property) \n",
    "\n",
    "Note that the rdfs namespace is automatically loaded just as well as the owl namespace, which makes things easier."
   ]
  },
  {
   "cell_type": "code",
   "execution_count": 4,
   "id": "fb0d5ae3-c907-4422-bf66-2e60901f78ee",
   "metadata": {},
   "outputs": [
    {
     "name": "stdout",
     "output_type": "stream",
     "text": [
      "[\"Any aspect of an Entity (but not a part of it), which cannot exist without that Entity. For example, the way the surface of a specific PhysicalObject looks like, or the specific light of a place at a certain time, are examples of Quality, while the encoding of a Quality into e.g. a PhysicalAttribute should be modeled as a Region. \\nFrom the design viewpoint, the Quality-Region distinction is useful only when individual aspects of an Entity are considered in a domain of discourse. \\nFor example, in an automotive context, it would be irrelevant to consider the aspects of car windows for a specific car, unless the factory wants to check a specific window against design parameters (anomaly detection). \\nOn the other hand, in an antiques context, the individual aspects for a specific piece of furniture are a major focus of attention, and may constitute the actual added value, because the design parameters for old furniture are often not fixed, and may not be viewed as 'anomalies'.\"]\n"
     ]
    }
   ],
   "source": [
    "print(dul.Quality.comment)"
   ]
  },
  {
   "cell_type": "markdown",
   "id": "e2f3c764-0339-405e-9deb-e556affa3949",
   "metadata": {},
   "source": [
    "#### At this point I personally decide to stop my search. Our goal is to align our \"Types\" from the pokemon type taxonomy to the DUL top level ontology. I argue that the type of a pokemon is a quality.. Therefore, we should align our types to be a subclass of the quality class."
   ]
  },
  {
   "cell_type": "markdown",
   "id": "15290863-03f4-4574-8e8d-4a53473edfb9",
   "metadata": {},
   "source": [
    "### In a second step we want to also load our product taxonomy created in Tutorial 6 and align it with the DUL ontology\n",
    "\n",
    "#### For this, please upload the saved ontology to this jupyter notebook (if you are using the dockerized version).\n",
    "\n",
    "The ontology alignment in this case is to assign the product class as a subclass of the DUL.PhysicalObject class\n",
    "\n",
    "#### To load the file, we now have to use second name. Print the classes to make sure you loaded correctly"
   ]
  },
  {
   "cell_type": "code",
   "execution_count": 5,
   "id": "6758de98-a67f-40c6-afbf-e13542861941",
   "metadata": {},
   "outputs": [
    {
     "data": {
      "text/plain": [
       "[TypeTaxonomyFromBulbagarden.Types,\n",
       " TypeTaxonomyFromBulbagarden.Normal,\n",
       " TypeTaxonomyFromBulbagarden.Fire,\n",
       " TypeTaxonomyFromBulbagarden.Fighting,\n",
       " TypeTaxonomyFromBulbagarden.Water,\n",
       " TypeTaxonomyFromBulbagarden.Flying,\n",
       " TypeTaxonomyFromBulbagarden.Grass,\n",
       " TypeTaxonomyFromBulbagarden.Poison,\n",
       " TypeTaxonomyFromBulbagarden.Electric,\n",
       " TypeTaxonomyFromBulbagarden.Ground,\n",
       " TypeTaxonomyFromBulbagarden.Psychic,\n",
       " TypeTaxonomyFromBulbagarden.Rock,\n",
       " TypeTaxonomyFromBulbagarden.Ice,\n",
       " TypeTaxonomyFromBulbagarden.Bug,\n",
       " TypeTaxonomyFromBulbagarden.Dragon,\n",
       " TypeTaxonomyFromBulbagarden.Ghost,\n",
       " TypeTaxonomyFromBulbagarden.Dark,\n",
       " TypeTaxonomyFromBulbagarden.Steel,\n",
       " TypeTaxonomyFromBulbagarden.Fairy,\n",
       " TypeTaxonomyFromBulbagarden.Stellar,\n",
       " TypeTaxonomyFromBulbagarden.???]"
      ]
     },
     "execution_count": 5,
     "metadata": {},
     "output_type": "execute_result"
    }
   ],
   "source": [
    "prod = get_ontology(\"./alignmentexercise/TypeTaxonomyFromBulbagarden.owl\").load()\n",
    "\n",
    "list(prod.classes())"
   ]
  },
  {
   "cell_type": "markdown",
   "id": "fe736bd2-cb04-4438-b212-872a1468aebc",
   "metadata": {},
   "source": [
    "#### Let us again assign a new namespace for the type taxonomy"
   ]
  },
  {
   "cell_type": "code",
   "execution_count": 6,
   "id": "0116dc27-48f3-4d57-9492-7f2b9120fbab",
   "metadata": {},
   "outputs": [
    {
     "name": "stdout",
     "output_type": "stream",
     "text": [
      "http://TypeTaxonomyFromBulbagarden.owl#Types\n"
     ]
    }
   ],
   "source": [
    "tax = get_namespace(\"http://TypeTaxonomyFromBulbagarden.owl#\")\n",
    "\n",
    "print(tax.Types.iri)"
   ]
  },
  {
   "cell_type": "markdown",
   "id": "2dcf3f58-e7e9-4a48-9ecb-6a10bb647b34",
   "metadata": {},
   "source": [
    "## Now on to actually aligning the ontologies!\n",
    "\n",
    "#### This can now be easily done by aissgning the types class from the product taxonomy file as a subclass of the dul upper ontology."
   ]
  },
  {
   "cell_type": "code",
   "execution_count": 7,
   "id": "fcc41b16-e93a-4eab-a216-41a183ce6cbe",
   "metadata": {},
   "outputs": [
    {
     "data": {
      "text/plain": [
       "[TypeTaxonomyFromBulbagarden.Types]"
      ]
     },
     "execution_count": 7,
     "metadata": {},
     "output_type": "execute_result"
    }
   ],
   "source": [
    "with onto: \n",
    "    tax.Types.is_a.append(dul.Quality)\n",
    "\n",
    "list(dul.Quality.subclasses())"
   ]
  },
  {
   "cell_type": "markdown",
   "id": "6afe5f4f-2c30-424b-a3d8-986a47c8b7ae",
   "metadata": {},
   "source": [
    "### Unfortunately, we need to do this for all subclasses of the types class as well."
   ]
  },
  {
   "cell_type": "code",
   "execution_count": 12,
   "id": "9a7a70c9-9387-4bb0-8b08-f46e355d5491",
   "metadata": {},
   "outputs": [
    {
     "ename": "AttributeError",
     "evalue": "'NoneType' object has no attribute 'subclasses'",
     "output_type": "error",
     "traceback": [
      "\u001b[1;31m---------------------------------------------------------------------------\u001b[0m",
      "\u001b[1;31mAttributeError\u001b[0m                            Traceback (most recent call last)",
      "Cell \u001b[1;32mIn[12], line 3\u001b[0m\n\u001b[0;32m      1\u001b[0m ont \u001b[38;5;241m=\u001b[39m get_ontology(\u001b[38;5;124m\"\u001b[39m\u001b[38;5;124mhttp://www.ease-crc.org/ont/DUL.owl\u001b[39m\u001b[38;5;124m\"\u001b[39m)\u001b[38;5;241m.\u001b[39mload()\n\u001b[1;32m----> 3\u001b[0m \u001b[38;5;28;01mfor\u001b[39;00m i \u001b[38;5;129;01min\u001b[39;00m \u001b[43mont\u001b[49m\u001b[38;5;241;43m.\u001b[39;49m\u001b[43mTypes\u001b[49m\u001b[38;5;241;43m.\u001b[39;49m\u001b[43msubclasses\u001b[49m():\n\u001b[0;32m      4\u001b[0m     \u001b[38;5;28;01mwith\u001b[39;00m onto:\n\u001b[0;32m      5\u001b[0m         i\u001b[38;5;241m.\u001b[39mis_a\u001b[38;5;241m.\u001b[39mappend(tax\u001b[38;5;241m.\u001b[39mTypes)\n",
      "\u001b[1;31mAttributeError\u001b[0m: 'NoneType' object has no attribute 'subclasses'"
     ]
    }
   ],
   "source": [
    "for i in prod.Product.subclasses():\n",
    "    with onto:\n",
    "        i.is_a.append(prod.Product)"
   ]
  },
  {
   "cell_type": "markdown",
   "id": "fc996e30-f9e4-42fb-9a59-0d16360910e1",
   "metadata": {},
   "source": [
    "#### In a last step, let us save the aligned ontology"
   ]
  },
  {
   "cell_type": "code",
   "execution_count": 10,
   "id": "ef2d4c34-7dbd-4a17-856a-109580de5b53",
   "metadata": {},
   "outputs": [],
   "source": [
    "onto.save(file = \"AlignedOntology.owl\", format = \"rdfxml\")"
   ]
  },
  {
   "cell_type": "code",
   "execution_count": null,
   "id": "a8e7e083-2dcc-4c8b-a0e7-474c5bc9fb71",
   "metadata": {},
   "outputs": [],
   "source": []
  }
 ],
 "metadata": {
  "kernelspec": {
   "display_name": "Python 3 (ipykernel)",
   "language": "python",
   "name": "python3"
  },
  "language_info": {
   "codemirror_mode": {
    "name": "ipython",
    "version": 3
   },
   "file_extension": ".py",
   "mimetype": "text/x-python",
   "name": "python",
   "nbconvert_exporter": "python",
   "pygments_lexer": "ipython3",
   "version": "3.12.3"
  }
 },
 "nbformat": 4,
 "nbformat_minor": 5
}
