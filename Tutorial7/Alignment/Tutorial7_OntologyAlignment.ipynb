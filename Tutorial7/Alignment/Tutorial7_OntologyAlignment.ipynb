{
 "cells": [
  {
   "cell_type": "markdown",
   "id": "4fd86cdb-53c6-456f-8115-1a5ee877c8ab",
   "metadata": {},
   "source": [
    "## Ontology Alignment\n",
    "\n",
    "In this Tutorial we will align the taxonomy created in Tutorial 6 with an upper ontology"
   ]
  },
  {
   "cell_type": "code",
   "execution_count": 1,
   "id": "875f560f-c103-4b16-8449-70b359676a82",
   "metadata": {},
   "outputs": [
    {
     "name": "stdout",
     "output_type": "stream",
     "text": [
      "Collecting owlready2\n",
      "  Downloading owlready2-0.46.tar.gz (27.4 MB)\n",
      "\u001b[2K     \u001b[90m━━━━━━━━━━━━━━━━━━━━━━━━━━━━━━━━━━━━━━━━\u001b[0m \u001b[32m27.4/27.4 MB\u001b[0m \u001b[31m14.0 MB/s\u001b[0m eta \u001b[36m0:00:00\u001b[0m00:01\u001b[0m00:01\u001b[0m\n",
      "\u001b[?25h  Installing build dependencies ... \u001b[?25ldone\n",
      "\u001b[?25h  Getting requirements to build wheel ... \u001b[?25ldone\n",
      "\u001b[?25h  Preparing metadata (pyproject.toml) ... \u001b[?25ldone\n",
      "\u001b[?25hBuilding wheels for collected packages: owlready2\n",
      "  Building wheel for owlready2 (pyproject.toml) ... \u001b[?25ldone\n",
      "\u001b[?25h  Created wheel for owlready2: filename=owlready2-0.46-cp310-cp310-linux_x86_64.whl size=23551486 sha256=3c8cf3684bbc40b877ff0ab5e014269826e9e8c3f2b2ba462000647b2d7c8555\n",
      "  Stored in directory: /home/jovyan/.cache/pip/wheels/bf/6f/ef/35df148baa59fc6b243aca4f101e17aed14b67dc1166b73fe0\n",
      "Successfully built owlready2\n",
      "Installing collected packages: owlready2\n",
      "Successfully installed owlready2-0.46\n"
     ]
    }
   ],
   "source": [
    "!pip install owlready2"
   ]
  },
  {
   "cell_type": "markdown",
   "id": "43348495-873d-40fd-b85a-748a96c8a80f",
   "metadata": {},
   "source": [
    "### Let us first load an upper ontology, here DUL, and list its content"
   ]
  },
  {
   "cell_type": "code",
   "execution_count": 2,
   "id": "3bc80499-fa22-47b8-99de-a430405dc258",
   "metadata": {},
   "outputs": [
    {
     "data": {
      "text/plain": [
       "[owl.Thing,\n",
       " DUL.Agent,\n",
       " DUL.SocialAgent,\n",
       " DUL.Entity,\n",
       " DUL.Concept,\n",
       " DUL.Collection,\n",
       " DUL.SocialObject,\n",
       " DUL.InformationRealization,\n",
       " DUL.Object,\n",
       " DUL.Description,\n",
       " DUL.Role,\n",
       " DUL.Task,\n",
       " DUL.Action,\n",
       " DUL.InformationObject,\n",
       " DUL.Parameter,\n",
       " DUL.Event,\n",
       " DUL.Situation,\n",
       " DUL.Quality,\n",
       " DUL.Region,\n",
       " DUL.TimeInterval,\n",
       " DUL.Abstract,\n",
       " DUL.Amount,\n",
       " DUL.PhysicalAttribute,\n",
       " DUL.SpaceRegion,\n",
       " DUL.BiologicalObject,\n",
       " DUL.PhysicalBody,\n",
       " DUL.ChemicalObject,\n",
       " DUL.Classification,\n",
       " DUL.TimeIndexedRelation,\n",
       " DUL.Collective,\n",
       " DUL.CollectiveAgent,\n",
       " DUL.Community,\n",
       " DUL.Configuration,\n",
       " DUL.Contract,\n",
       " DUL.Design,\n",
       " DUL.DesignedArtifact,\n",
       " DUL.PhysicalArtifact,\n",
       " DUL.DesignedSubstance,\n",
       " DUL.FunctionalSubstance,\n",
       " DUL.Diagnosis,\n",
       " DUL.EventType,\n",
       " DUL.FormalEntity,\n",
       " DUL.Substance,\n",
       " DUL.Goal,\n",
       " DUL.Group,\n",
       " DUL.Plan,\n",
       " DUL.InformationEntity,\n",
       " DUL.PhysicalObject,\n",
       " DUL.LocalConcept,\n",
       " DUL.Method,\n",
       " DUL.Narrative,\n",
       " DUL.NaturalPerson,\n",
       " DUL.Person,\n",
       " DUL.PhysicalAgent,\n",
       " DUL.Norm,\n",
       " DUL.ObjectAggregate,\n",
       " DUL.Organism,\n",
       " DUL.Organization,\n",
       " DUL.Parthood,\n",
       " DUL.Pattern,\n",
       " DUL.Relation,\n",
       " DUL.Personification,\n",
       " DUL.PhysicalPlace,\n",
       " DUL.Place,\n",
       " DUL.PlanExecution,\n",
       " DUL.Process,\n",
       " DUL.Project,\n",
       " DUL.Right,\n",
       " DUL.Set,\n",
       " DUL.SocialObjectAttribute,\n",
       " DUL.SocialPerson,\n",
       " DUL.SocialRelation,\n",
       " DUL.SpatioTemporalRegion,\n",
       " DUL.Theory,\n",
       " DUL.Transition,\n",
       " DUL.TypeCollection,\n",
       " DUL.UnitOfMeasure,\n",
       " DUL.Workflow,\n",
       " DUL.WorkflowExecution]"
      ]
     },
     "execution_count": 2,
     "metadata": {},
     "output_type": "execute_result"
    }
   ],
   "source": [
    "from owlready2 import *\n",
    "\n",
    "onto = get_ontology(\"http://www.ease-crc.org/ont/DUL.owl\").load()\n",
    "\n",
    "list(onto.classes())"
   ]
  },
  {
   "cell_type": "markdown",
   "id": "d9888d13-8b42-43a9-bcf2-3abc50d545eb",
   "metadata": {},
   "source": [
    "#### Let us get the class relations\n",
    "\n",
    "For this, we create a second namespace for the loaded ontology (dul), and list subclasses\n",
    "\n",
    "We can do this until we reach a class that might be a fit as upper class"
   ]
  },
  {
   "cell_type": "code",
   "execution_count": 16,
   "id": "e7219208-cbca-4401-ad85-105f6012f07f",
   "metadata": {},
   "outputs": [
    {
     "data": {
      "text/plain": [
       "[DUL.Object,\n",
       " DUL.Event,\n",
       " DUL.Situation,\n",
       " DUL.Quality,\n",
       " DUL.Abstract,\n",
       " DUL.InformationEntity]"
      ]
     },
     "execution_count": 16,
     "metadata": {},
     "output_type": "execute_result"
    }
   ],
   "source": [
    "dul = get_namespace(\"http://www.ontologydesignpatterns.org/ont/dul/DUL.owl#\")\n",
    "                    \n",
    "list(dul.Entity.subclasses())"
   ]
  },
  {
   "cell_type": "code",
   "execution_count": 17,
   "id": "68f3b402-e1db-44d6-a1e8-ca78984e60ca",
   "metadata": {},
   "outputs": [
    {
     "data": {
      "text/plain": [
       "[DUL.Agent, DUL.SocialObject, DUL.PhysicalObject]"
      ]
     },
     "execution_count": 17,
     "metadata": {},
     "output_type": "execute_result"
    }
   ],
   "source": [
    "list(dul.Object.subclasses())"
   ]
  },
  {
   "cell_type": "code",
   "execution_count": 18,
   "id": "eae9dc7b-8812-4712-8012-dc1e3fba6a1d",
   "metadata": {},
   "outputs": [
    {
     "data": {
      "text/plain": [
       "[DUL.PhysicalBody, DUL.PhysicalArtifact, DUL.PhysicalAgent, DUL.PhysicalPlace]"
      ]
     },
     "execution_count": 18,
     "metadata": {},
     "output_type": "execute_result"
    }
   ],
   "source": [
    "list(dul.PhysicalObject.subclasses())"
   ]
  },
  {
   "cell_type": "markdown",
   "id": "b94e475b-5b40-48b2-9d64-ebfdd52aae0e",
   "metadata": {},
   "source": [
    "#### Now we reached a point where I am unsure what the difference between a physical object and a physical artifact is. In such situations, we can access the ontologie to get the class comment (rdfs.comment annotation property) \n",
    "\n",
    "Note that the rdfs namespace is automatically loaded just as well as the owl namespace, which makes things easier."
   ]
  },
  {
   "cell_type": "code",
   "execution_count": 22,
   "id": "fb0d5ae3-c907-4422-bf66-2e60901f78ee",
   "metadata": {},
   "outputs": [
    {
     "name": "stdout",
     "output_type": "stream",
     "text": [
      "[\"Any PhysicalObject that isDescribedBy a Plan .\\nThis axiomatization is weak, but allows to talk of artifacts in a very general sense, i.e. including recycled objects, objects with an intentional functional change, natural objects that are given a certain function, even though they are not modified or structurally designed, etc. PhysicalArtifact(s) are not considered disjoint from PhysicalBody(s), in order to allow a dual classification when needed. E.g.,\\nFunctionalSubstance(s) are included here as well.\\nImmaterial (non-physical) artifacts (e.g. texts, ideas, cultural movements, corporations, communities, etc. can be modelled as social objects (see SocialObject), which are all 'artifactual' in the weak sense assumed here.\"]\n"
     ]
    }
   ],
   "source": [
    "print(dul.PhysicalArtifact.comment)"
   ]
  },
  {
   "cell_type": "markdown",
   "id": "e2f3c764-0339-405e-9deb-e556affa3949",
   "metadata": {},
   "source": [
    "#### At this point I personally decide to stop my search. Our goal is to align our products from the product taxonomy to the DUL top level ontology. I argue that products are physical objects, but with the above definition are not physical artifacts (since products often are structurally designed, like a shampoo that is designed for a certain use). Therefore, we should align our products to be a subclass of the physical object class."
   ]
  },
  {
   "cell_type": "markdown",
   "id": "15290863-03f4-4574-8e8d-4a53473edfb9",
   "metadata": {},
   "source": [
    "### In a second step we want to also load our product taxonomy created in Tutorial 6 and align it with the DUL ontology\n",
    "\n",
    "#### For this, please upload the saved ontology to this jupyter notebook (if you are using the dockerized version).\n",
    "\n",
    "The ontology alignment in this case is to assign the product class as a subclass of the DUL.PhysicalObject class\n",
    "\n",
    "#### To load the file, we now have to use second name. Print the classes to make sure you loaded correctly"
   ]
  },
  {
   "cell_type": "code",
   "execution_count": 24,
   "id": "6758de98-a67f-40c6-afbf-e13542861941",
   "metadata": {},
   "outputs": [
    {
     "data": {
      "text/plain": [
       "[ProductTaxonomyFromLidl.Product,\n",
       " ProductTaxonomyFromLidl.FruitAndVeg,\n",
       " ProductTaxonomyFromLidl.Meat-Free,\n",
       " ProductTaxonomyFromLidl.MeatAndPoultry,\n",
       " ProductTaxonomyFromLidl.FishAndSeafood,\n",
       " ProductTaxonomyFromLidl.Bakery,\n",
       " ProductTaxonomyFromLidl.Chilled,\n",
       " ProductTaxonomyFromLidl.FrozenFood,\n",
       " ProductTaxonomyFromLidl.FoodCupboard,\n",
       " ProductTaxonomyFromLidl.Wines,\n",
       " ProductTaxonomyFromLidl.BeerAndCider,\n",
       " ProductTaxonomyFromLidl.Spirits,\n",
       " ProductTaxonomyFromLidl.CleaningAndHousehold,\n",
       " ProductTaxonomyFromLidl.HealthAndBeauty,\n",
       " ProductTaxonomyFromLidl.Baby,\n",
       " ProductTaxonomyFromLidl.Pet,\n",
       " ProductTaxonomyFromLidl.,\n",
       " ProductTaxonomyFromLidl.ClickheretobrowsethelatestPickoftheWeekoffers.,\n",
       " ProductTaxonomyFromLidl.BritishApples,\n",
       " ProductTaxonomyFromLidl.RedTractor,\n",
       " ProductTaxonomyFromLidl.BigOnFreshBritishCarrots,\n",
       " ProductTaxonomyFromLidl.RainforestAlliance,\n",
       " ProductTaxonomyFromLidl.Fairtrade,\n",
       " ProductTaxonomyFromLidl.LEAFCertified,\n",
       " ProductTaxonomyFromLidl.Ourpledgeformoreveg,\n",
       " ProductTaxonomyFromLidl.Meat-FreeProducts,\n",
       " ProductTaxonomyFromLidl.Meat-FreeRecipeCollection,\n",
       " ProductTaxonomyFromLidl.LidlChangesForTheBetter,\n",
       " ProductTaxonomyFromLidl.HighFibreBreakfastSmoothieBowl,\n",
       " ProductTaxonomyFromLidl.PunchyBlackBeanSmashBurgers,\n",
       " ProductTaxonomyFromLidl.BBQGlazedCornOnTheCob,\n",
       " ProductTaxonomyFromLidl.Beef,\n",
       " ProductTaxonomyFromLidl.Pork,BaconAndSausages,\n",
       " ProductTaxonomyFromLidl.ChickenAndTurkey,\n",
       " ProductTaxonomyFromLidl.Lamb,\n",
       " ProductTaxonomyFromLidl.BackingBritishFarming,\n",
       " ProductTaxonomyFromLidl.WelfareWindows,\n",
       " ProductTaxonomyFromLidl.RSPCA,\n",
       " ProductTaxonomyFromLidl.SustainableSeafood,\n",
       " ProductTaxonomyFromLidl.MSCcertified,\n",
       " ProductTaxonomyFromLidl.PreventedOceanPlastic,\n",
       " ProductTaxonomyFromLidl.SeafoodFideuà,\n",
       " ProductTaxonomyFromLidl.BarbecueFishQuesadillaPockets,\n",
       " ProductTaxonomyFromLidl.SaltySeaDogs,\n",
       " ProductTaxonomyFromLidl.CroissantBreadWithPearSauce,\n",
       " ProductTaxonomyFromLidl.CheesyPaniniCroutons,\n",
       " ProductTaxonomyFromLidl.Eggs,CheeseAndDairy,\n",
       " ProductTaxonomyFromLidl.Delicatessen,\n",
       " ProductTaxonomyFromLidl.ChilledPizzasAndPasta,\n",
       " ProductTaxonomyFromLidl.ChilledReadyMeals,\n",
       " ProductTaxonomyFromLidl.ChilledDessert,\n",
       " ProductTaxonomyFromLidl.ChilledJuicesAndSmoothies,\n",
       " ProductTaxonomyFromLidl.FrozenFruitAndVeg,\n",
       " ProductTaxonomyFromLidl.FrozenFishAndSeafood,\n",
       " ProductTaxonomyFromLidl.FrozenReadyMealsAndPizzas,\n",
       " ProductTaxonomyFromLidl.IceCreamAndFrozenDesserts,\n",
       " ProductTaxonomyFromLidl.Freshasparagusandfetabake,\n",
       " ProductTaxonomyFromLidl.Zingylemonchickentraybake,\n",
       " ProductTaxonomyFromLidl.Spicypeapotatocakes,\n",
       " ProductTaxonomyFromLidl.Jams,HoneyAndSpreads,\n",
       " ProductTaxonomyFromLidl.Rice,PastaAndNoodles,\n",
       " ProductTaxonomyFromLidl.TeaAndCoffee,\n",
       " ProductTaxonomyFromLidl.Cereals,MuesliAndOats,\n",
       " ProductTaxonomyFromLidl.HomeBaking,\n",
       " ProductTaxonomyFromLidl.TinsAndJars,\n",
       " ProductTaxonomyFromLidl.CondimentsAndSpices,\n",
       " ProductTaxonomyFromLidl.BiscuitsAndCrackers,\n",
       " ProductTaxonomyFromLidl.Crisps,NutsAndPopcorn,\n",
       " ProductTaxonomyFromLidl.ChocolatesAndSweets,\n",
       " ProductTaxonomyFromLidl.Awinerangetoamaze,\n",
       " ProductTaxonomyFromLidl.WhiteWines,\n",
       " ProductTaxonomyFromLidl.RoséWines,\n",
       " ProductTaxonomyFromLidl.RedWines,\n",
       " ProductTaxonomyFromLidl.SparklingWines,\n",
       " ProductTaxonomyFromLidl.IWSCBronzeandSilver2022,\n",
       " ProductTaxonomyFromLidl.DWWABronzeandSilver2022,\n",
       " ProductTaxonomyFromLidl.DrinksRetailingAwardsFinalist2023,\n",
       " ProductTaxonomyFromLidl.ViewourDeluxeWines,\n",
       " ProductTaxonomyFromLidl.BrowseAllOurDeluxeWines,\n",
       " ProductTaxonomyFromLidl.OurBeerAndCider,\n",
       " ProductTaxonomyFromLidl.OurSpiritsCollection,\n",
       " ProductTaxonomyFromLidl.DeluxeDeli,\n",
       " ProductTaxonomyFromLidl.Retsinamojito,\n",
       " ProductTaxonomyFromLidl.Rhubarbcobblercocktail,\n",
       " ProductTaxonomyFromLidl.Strawberryandbasilmule,\n",
       " ProductTaxonomyFromLidl.FoodOffers,\n",
       " ProductTaxonomyFromLidl.Nappies,\n",
       " ProductTaxonomyFromLidl.BabyFood,\n",
       " ProductTaxonomyFromLidl.BabyToiletries,\n",
       " ProductTaxonomyFromLidl.AwardWinning,\n",
       " ProductTaxonomyFromLidl.SmokyCheeseAndSpinachFrittatas,\n",
       " ProductTaxonomyFromLidl.FruityBlueberryPancakes,\n",
       " ProductTaxonomyFromLidl.ZingyAndHerbyFishFingers]"
      ]
     },
     "execution_count": 24,
     "metadata": {},
     "output_type": "execute_result"
    }
   ],
   "source": [
    "prod = get_ontology(\"ProductTaxonomyFromLidl.owl\").load()\n",
    "\n",
    "list(prod.classes())"
   ]
  },
  {
   "cell_type": "markdown",
   "id": "fe736bd2-cb04-4438-b212-872a1468aebc",
   "metadata": {},
   "source": [
    "#### Let us again assign a new namespace for the product taxonomy"
   ]
  },
  {
   "cell_type": "code",
   "execution_count": 27,
   "id": "0116dc27-48f3-4d57-9492-7f2b9120fbab",
   "metadata": {},
   "outputs": [
    {
     "name": "stdout",
     "output_type": "stream",
     "text": [
      "http://ProductTaxonomyFromLidl.owl#Product\n"
     ]
    }
   ],
   "source": [
    "tax = get_namespace(\"http://ProductTaxonomyFromLidl.owl#\")\n",
    "\n",
    "print(tax.Product.iri)"
   ]
  },
  {
   "cell_type": "markdown",
   "id": "2dcf3f58-e7e9-4a48-9ecb-6a10bb647b34",
   "metadata": {},
   "source": [
    "## Now on to actually aligning the ontologies!\n",
    "\n",
    "#### This can now be easily done by aissgning the product class from the product taxonomy file as a subclass of the dul upper ontology."
   ]
  },
  {
   "cell_type": "code",
   "execution_count": 29,
   "id": "fcc41b16-e93a-4eab-a216-41a183ce6cbe",
   "metadata": {},
   "outputs": [
    {
     "data": {
      "text/plain": [
       "[DUL.PhysicalBody,\n",
       " DUL.PhysicalArtifact,\n",
       " DUL.PhysicalAgent,\n",
       " DUL.PhysicalPlace,\n",
       " ProductTaxonomyFromLidl.Product]"
      ]
     },
     "execution_count": 29,
     "metadata": {},
     "output_type": "execute_result"
    }
   ],
   "source": [
    "with onto: \n",
    "    tax.Product.is_a.append(dul.PhysicalObject)\n",
    "\n",
    "list(dul.PhysicalObject.subclasses())"
   ]
  },
  {
   "cell_type": "markdown",
   "id": "6afe5f4f-2c30-424b-a3d8-986a47c8b7ae",
   "metadata": {},
   "source": [
    "### Unfortunately, we need to do this for all subclasses of the product class as well."
   ]
  },
  {
   "cell_type": "code",
   "execution_count": 34,
   "id": "9a7a70c9-9387-4bb0-8b08-f46e355d5491",
   "metadata": {},
   "outputs": [],
   "source": [
    "for i in prod.Product.subclasses():\n",
    "    with onto:\n",
    "        i.is_a.append(prod.Product)"
   ]
  },
  {
   "cell_type": "markdown",
   "id": "fc996e30-f9e4-42fb-9a59-0d16360910e1",
   "metadata": {},
   "source": [
    "#### In a last step, let us save the aligned ontology"
   ]
  },
  {
   "cell_type": "code",
   "execution_count": 35,
   "id": "ef2d4c34-7dbd-4a17-856a-109580de5b53",
   "metadata": {},
   "outputs": [],
   "source": [
    "onto.save(file = \"AlignedOntology.owl\", format = \"rdfxml\")"
   ]
  },
  {
   "cell_type": "code",
   "execution_count": null,
   "id": "a8e7e083-2dcc-4c8b-a0e7-474c5bc9fb71",
   "metadata": {},
   "outputs": [],
   "source": []
  }
 ],
 "metadata": {
  "kernelspec": {
   "display_name": "Python 3 (ipykernel)",
   "language": "python",
   "name": "python3"
  },
  "language_info": {
   "codemirror_mode": {
    "name": "ipython",
    "version": 3
   },
   "file_extension": ".py",
   "mimetype": "text/x-python",
   "name": "python",
   "nbconvert_exporter": "python",
   "pygments_lexer": "ipython3",
   "version": "3.10.5"
  }
 },
 "nbformat": 4,
 "nbformat_minor": 5
}
