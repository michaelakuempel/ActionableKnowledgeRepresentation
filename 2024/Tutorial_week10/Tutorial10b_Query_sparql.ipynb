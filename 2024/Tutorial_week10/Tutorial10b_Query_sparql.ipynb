{
 "cells": [
  {
   "cell_type": "markdown",
   "metadata": {},
   "source": [
    "## Querying a knowledge graph using SPARQL\n",
    "\n",
    "As seen in Tutorial 3a with rdflib, SPARQL can be used to access information contained in a graph. It is the standard query language for knowledge graphs.\n",
    "\n",
    "If not done alreday, please select the SPARQL kernel now (top right) to perform this Tutorial. The installation instructions for the SPARQL kernel can be found in the github repo (`https://github.com/michaelakuempel/ActionableKnowledgeRepresentation`)\n",
    "\n",
    "Like in the previous Tutorial, we start with loading the Knowledge Graph and querying for all subclasses of the main \"Thing\" class:"
   ]
  },
  {
   "cell_type": "code",
   "execution_count": 1,
   "metadata": {},
   "outputs": [
    {
     "data": {
      "text/html": [
       "<div class=\"krn-spql\"><div class=\"magic\">Endpoint set to: https://api.krr.triply.cc/datasets/mkumpel/ProductKG/sparql</div><div class=\"magic\">Request format: DEFAULT</div><div class=\"magic\">Display: table</div><div class=\"magic\">Result maximum size: 10</div></div>"
      ],
      "text/plain": [
       "Endpoint set to: https://api.krr.triply.cc/datasets/mkumpel/ProductKG/sparql\n",
       "Request format: DEFAULT\n",
       "Display: table\n",
       "Result maximum size: 10\n"
      ]
     },
     "metadata": {},
     "output_type": "display_data"
    },
    {
     "data": {
      "text/html": [
       "<div class=\"krn-spql\"><table><tr class=hdr><th>x</th></tr><tr class=odd><td class=val><a href=\"http://purl.org/ProductKG/RecipeOn#IngredientSet\" target=\"_other\">http://purl.org/ProductKG/RecipeOn#IngredientSet</a></td></tr><tr class=even><td class=val><a href=\"http://purl.org/ProductKG/allergen#Allergen\" target=\"_other\">http://purl.org/ProductKG/allergen#Allergen</a></td></tr><tr class=odd><td class=val><a href=\"http://purl.org/ProductKG/allergen#allergy\" target=\"_other\">http://purl.org/ProductKG/allergen#allergy</a></td></tr><tr class=even><td class=val><a href=\"http://purl.org/ProductKG/food-nutrition#Food\" target=\"_other\">http://purl.org/ProductKG/food-nutrition#Food</a></td></tr><tr class=odd><td class=val><a href=\"http://purl.org/ProductKG/location#retail_lab_IAI\" target=\"_other\">http://purl.org/ProductKG/location#retail_lab_IAI</a></td></tr><tr class=even><td class=val><a href=\"http://purl.org/ProductKG/nonfoodingredient#Ingredient\" target=\"_other\">http://purl.org/ProductKG/nonfoodingredient#Ingredient</a></td></tr><tr class=odd><td class=val><a href=\"http://purl.org/ProductKG/nutrition#nutritional_component\" target=\"_other\">http://purl.org/ProductKG/nutrition#nutritional_component</a></td></tr><tr class=even><td class=val><a href=\"http://purl.org/ProductKG/packaging.owl#Packaging\" target=\"_other\">http://purl.org/ProductKG/packaging.owl#Packaging</a></td></tr><tr class=odd><td class=val><a href=\"http://purl.org/ProductKG/product-taxonomy#Product\" target=\"_other\">http://purl.org/ProductKG/product-taxonomy#Product</a></td></tr><tr class=even><td class=val><a href=\"http://purl.org/ProductKG/product-taxonomy.owl#Product\" target=\"_other\">http://purl.org/ProductKG/product-taxonomy.owl#Product</a></td></tr></table><div class=\"tinfo\">Total: 19, Shown: 10</div></div>"
      ]
     },
     "metadata": {},
     "output_type": "display_data"
    }
   ],
   "source": [
    "# set parameters for kernel to display results\n",
    "%endpoint https://api.krr.triply.cc/datasets/mkumpel/ProductKG/sparql\n",
    "%format default\n",
    "%display table \n",
    "%show 10\n",
    "\n",
    "PREFIX rdf: <http://www.w3.org/1999/02/22-rdf-syntax-ns#>\n",
    "PREFIX rdfs: <http://www.w3.org/2000/01/rdf-schema#>\n",
    "PREFIX owl: <http://www.w3.org/2002/07/owl#>\n",
    "\n",
    "SELECT * WHERE{\n",
    "    ?x rdfs:subClassOf owl:Thing.\n",
    "}"
   ]
  },
  {
   "cell_type": "markdown",
   "metadata": {},
   "source": [
    "We proceed to again query all subclasses of `http://purl.org/goodrelations/v1#ProductOrService` and all subclasses of the retrieved classes"
   ]
  },
  {
   "cell_type": "code",
   "execution_count": 2,
   "metadata": {},
   "outputs": [
    {
     "data": {
      "text/html": [
       "<div class=\"krn-spql\"><div class=\"magic\">Endpoint set to: https://api.krr.triply.cc/datasets/mkumpel/ProductKG/sparql</div><div class=\"magic\">Request format: DEFAULT</div><div class=\"magic\">Display: table</div><div class=\"magic\">Result maximum size: 10</div></div>"
      ],
      "text/plain": [
       "Endpoint set to: https://api.krr.triply.cc/datasets/mkumpel/ProductKG/sparql\n",
       "Request format: DEFAULT\n",
       "Display: table\n",
       "Result maximum size: 10\n"
      ]
     },
     "metadata": {},
     "output_type": "display_data"
    },
    {
     "data": {
      "text/html": [
       "<div class=\"krn-spql\"><table><tr class=hdr><th>cls</th>\n",
       "<th>subcls</th></tr><tr class=odd><td class=val><a href=\"http://knowrob.org/kb/shop.owl#CareProduct\" target=\"_other\">http://knowrob.org/kb/shop.owl#CareProduct</a></td>\n",
       "<td class=val><a href=\"http://purl.org/ProductKG/product-taxonomy#body_care\" target=\"_other\">http://purl.org/ProductKG/product-taxonomy#body_care</a></td></tr><tr class=even><td class=val><a href=\"http://purl.org/ProductKG/product-taxonomy#Household\" target=\"_other\">http://purl.org/ProductKG/product-taxonomy#Household</a></td>\n",
       "<td class=val><a href=\"http://purl.org/ProductKG/product-taxonomy#paper_products\" target=\"_other\">http://purl.org/ProductKG/product-taxonomy#paper_products</a></td></tr><tr class=odd><td class=val><a href=\"http://purl.org/ProductKG/product-taxonomy#Household\" target=\"_other\">http://purl.org/ProductKG/product-taxonomy#Household</a></td>\n",
       "<td class=val><a href=\"http://knowrob.org/kb/shop.owl#Candle\" target=\"_other\">http://knowrob.org/kb/shop.owl#Candle</a></td></tr><tr class=even><td class=val><a href=\"http://purl.org/ProductKG/product-taxonomy#Household\" target=\"_other\">http://purl.org/ProductKG/product-taxonomy#Household</a></td>\n",
       "<td class=val><a href=\"http://knowrob.org/kb/shop.owl#Filter\" target=\"_other\">http://knowrob.org/kb/shop.owl#Filter</a></td></tr><tr class=odd><td class=val><a href=\"http://purl.org/ProductKG/product-taxonomy#Household\" target=\"_other\">http://purl.org/ProductKG/product-taxonomy#Household</a></td>\n",
       "<td class=val><a href=\"http://knowrob.org/kb/shop.owl#HouseholdFoil\" target=\"_other\">http://knowrob.org/kb/shop.owl#HouseholdFoil</a></td></tr><tr class=even><td class=val><a href=\"http://purl.org/ProductKG/product-taxonomy#Household\" target=\"_other\">http://purl.org/ProductKG/product-taxonomy#Household</a></td>\n",
       "<td class=val><a href=\"http://knowrob.org/kb/shop.owl#Lightbulb\" target=\"_other\">http://knowrob.org/kb/shop.owl#Lightbulb</a></td></tr><tr class=odd><td class=val><a href=\"http://purl.org/ProductKG/product-taxonomy#Household\" target=\"_other\">http://purl.org/ProductKG/product-taxonomy#Household</a></td>\n",
       "<td class=val><a href=\"http://purl.org/ProductKG/product-taxonomy#bags\" target=\"_other\">http://purl.org/ProductKG/product-taxonomy#bags</a></td></tr><tr class=even><td class=val><a href=\"http://purl.org/ProductKG/product-taxonomy#Household\" target=\"_other\">http://purl.org/ProductKG/product-taxonomy#Household</a></td>\n",
       "<td class=val><a href=\"http://purl.org/ProductKG/product-taxonomy#batteries\" target=\"_other\">http://purl.org/ProductKG/product-taxonomy#batteries</a></td></tr><tr class=odd><td class=val><a href=\"http://purl.org/ProductKG/product-taxonomy#baby/child\" target=\"_other\">http://purl.org/ProductKG/product-taxonomy#baby/child</a></td>\n",
       "<td class=val><a href=\"http://knowrob.org/kb/shop.owl#BabyAccessory\" target=\"_other\">http://knowrob.org/kb/shop.owl#BabyAccessory</a></td></tr><tr class=even><td class=val><a href=\"http://purl.org/ProductKG/product-taxonomy#baby/child\" target=\"_other\">http://purl.org/ProductKG/product-taxonomy#baby/child</a></td>\n",
       "<td class=val><a href=\"http://purl.org/ProductKG/product-taxonomy#baby_care\" target=\"_other\">http://purl.org/ProductKG/product-taxonomy#baby_care</a></td></tr></table><div class=\"tinfo\">Total: 48, Shown: 10</div></div>"
      ]
     },
     "metadata": {},
     "output_type": "display_data"
    }
   ],
   "source": [
    "%endpoint https://api.krr.triply.cc/datasets/mkumpel/ProductKG/sparql\n",
    "%format default\n",
    "%display table \n",
    "%show 10\n",
    "\n",
    "PREFIX rdf: <http://www.w3.org/1999/02/22-rdf-syntax-ns#>\n",
    "PREFIX rdfs: <http://www.w3.org/2000/01/rdf-schema#>\n",
    "PREFIX gr: <http://purl.org/goodrelations/v1#>\n",
    "\n",
    "SELECT * WHERE{\n",
    "    ?cls rdfs:subClassOf gr:ProductOrService.\n",
    "    ?subcls rdfs:subClassOf ?cls.\n",
    "}"
   ]
  },
  {
   "cell_type": "markdown",
   "metadata": {},
   "source": [
    "#### Application example\n",
    "\n",
    "Let's consider the example of being in the store and looking at a product we are interested in. Interesting properties to query might be label of the product.\n",
    "\n",
    "- Search for the product with a given EAN (barcode) of \"4010355090935\"\n",
    "- products can be found in `http://purl.org/ProductKG/product-taxonomy#`\n",
    "- names for products use the good relations vocabulary (gr:name)\n",
    "- labels are found in `http://purl.org/ProductKG/label#`"
   ]
  },
  {
   "cell_type": "code",
   "execution_count": 3,
   "metadata": {},
   "outputs": [
    {
     "data": {
      "text/html": [
       "<div class=\"krn-spql\"><div class=\"magic\">Endpoint set to: https://api.krr.triply.cc/datasets/mkumpel/ProductKG/sparql</div><div class=\"magic\">Request format: DEFAULT</div><div class=\"magic\">Display: table</div><div class=\"magic\">Result maximum size: 10</div></div>"
      ],
      "text/plain": [
       "Endpoint set to: https://api.krr.triply.cc/datasets/mkumpel/ProductKG/sparql\n",
       "Request format: DEFAULT\n",
       "Display: table\n",
       "Result maximum size: 10\n"
      ]
     },
     "metadata": {},
     "output_type": "display_data"
    },
    {
     "data": {
      "text/html": [
       "<div class=\"krn-spql\"><table><tr class=hdr><th>instance</th>\n",
       "<th>name</th>\n",
       "<th>label</th></tr><tr class=odd><td class=val><a href=\"http://purl.org/ProductKG/product-taxonomy#P4010355090935\" target=\"_other\">http://purl.org/ProductKG/product-taxonomy#P4010355090935</a></td>\n",
       "<td class=val>Balea Teint Perfektion Wimpernserum</td>\n",
       "<td class=val><a href=\"http://purl.org/ProductKG/label#FSC_Mix\" target=\"_other\">http://purl.org/ProductKG/label#FSC_Mix</a></td></tr><tr class=even><td class=val><a href=\"http://purl.org/ProductKG/product-taxonomy#P4010355090935\" target=\"_other\">http://purl.org/ProductKG/product-taxonomy#P4010355090935</a></td>\n",
       "<td class=val>Balea Teint Perfektion Wimpernserum</td>\n",
       "<td class=val><a href=\"http://purl.org/ProductKG/label#vegetarian\" target=\"_other\">http://purl.org/ProductKG/label#vegetarian</a></td></tr></table><div class=\"tinfo\">Total: 2, Shown: 2</div></div>"
      ]
     },
     "metadata": {},
     "output_type": "display_data"
    }
   ],
   "source": [
    "%endpoint https://api.krr.triply.cc/datasets/mkumpel/ProductKG/sparql\n",
    "%format default\n",
    "%display table \n",
    "%show 10\n",
    "\n",
    "PREFIX rdf: <http://www.w3.org/1999/02/22-rdf-syntax-ns#>\n",
    "PREFIX gr: <http://purl.org/goodrelations/v1#>\n",
    "PREFIX tax: <http://purl.org/ProductKG/product-taxonomy#>\n",
    "PREFIX lbl: <http://purl.org/ProductKG/label#>\n",
    "\n",
    "SELECT ?instance ?name ?label WHERE{\n",
    "    ?instance gr:hasEAN_UCC-13 \"4010355090935\".\n",
    "    ?instance gr:name ?name.\n",
    "    ?instance lbl:has_label ?label.\n",
    "}"
   ]
  },
  {
   "cell_type": "markdown",
   "metadata": {},
   "source": [
    "For the same product, we can search for contained ingredients and allergens:\n",
    "\n",
    "- Search for the product with a given EAN (barcode) of \"4010355090935\"\n",
    "- products can be found in `http://purl.org/ProductKG/product-taxonomy#`\n",
    "- ingredients are found in `http://purl.org/ProductKG/nonfoodingredient#`\n",
    "- allergens are linked in `http://purl.org/ProductKG/allergen#`"
   ]
  },
  {
   "cell_type": "code",
   "execution_count": 4,
   "metadata": {},
   "outputs": [
    {
     "data": {
      "text/html": [
       "<div class=\"krn-spql\"><div class=\"magic\">Endpoint set to: https://api.krr.triply.cc/datasets/mkumpel/ProductKG/sparql</div><div class=\"magic\">Request format: DEFAULT</div><div class=\"magic\">Display: table</div><div class=\"magic\">Result maximum size: 10</div></div>"
      ],
      "text/plain": [
       "Endpoint set to: https://api.krr.triply.cc/datasets/mkumpel/ProductKG/sparql\n",
       "Request format: DEFAULT\n",
       "Display: table\n",
       "Result maximum size: 10\n"
      ]
     },
     "metadata": {},
     "output_type": "display_data"
    },
    {
     "data": {
      "text/html": [
       "<div class=\"krn-spql\"><table><tr class=hdr><th>ingredient</th>\n",
       "<th>iclass</th>\n",
       "<th>allergen</th>\n",
       "<th>aclass</th></tr><tr class=odd><td class=val><a href=\"http://purl.org/ProductKG/nonfoodingredient#benzyl_alcohol\" target=\"_other\">http://purl.org/ProductKG/nonfoodingredient#benzyl_alcohol</a></td>\n",
       "<td class=val><a href=\"http://purl.org/ProductKG/nonfoodingredient#Alcohol\" target=\"_other\">http://purl.org/ProductKG/nonfoodingredient#Alcohol</a></td>\n",
       "<td class=val><a href=\"http://purl.org/ProductKG/allergen#benzyl_alcohol\" target=\"_other\">http://purl.org/ProductKG/allergen#benzyl_alcohol</a></td>\n",
       "<td class=val><a href=\"http://purl.org/ProductKG/nonfoodingredient#Benzyl_alcohol\" target=\"_other\">http://purl.org/ProductKG/nonfoodingredient#Benzyl_alcohol</a></td></tr><tr class=even><td class=val><a href=\"http://purl.org/ProductKG/nonfoodingredient#benzyl_alcohol\" target=\"_other\">http://purl.org/ProductKG/nonfoodingredient#benzyl_alcohol</a></td>\n",
       "<td class=val><a href=\"http://purl.org/ProductKG/nonfoodingredient#Benzyl_alcohol\" target=\"_other\">http://purl.org/ProductKG/nonfoodingredient#Benzyl_alcohol</a></td>\n",
       "<td class=val><a href=\"http://purl.org/ProductKG/allergen#benzyl_alcohol\" target=\"_other\">http://purl.org/ProductKG/allergen#benzyl_alcohol</a></td>\n",
       "<td class=val><a href=\"http://purl.org/ProductKG/nonfoodingredient#Benzyl_alcohol\" target=\"_other\">http://purl.org/ProductKG/nonfoodingredient#Benzyl_alcohol</a></td></tr><tr class=odd><td class=val><a href=\"http://purl.org/ProductKG/nonfoodingredient#acrylates\" target=\"_other\">http://purl.org/ProductKG/nonfoodingredient#acrylates</a></td>\n",
       "<td class=val><a href=\"http://purl.org/ProductKG/nonfoodingredient#Polymer\" target=\"_other\">http://purl.org/ProductKG/nonfoodingredient#Polymer</a></td>\n",
       "<td class=val></td>\n",
       "<td class=val></td></tr><tr class=even><td class=val><a href=\"http://purl.org/ProductKG/nonfoodingredient#alkyl_acrylate_crosspolymer\" target=\"_other\">http://purl.org/ProductKG/nonfoodingredient#alkyl_acrylate_crosspolymer</a></td>\n",
       "<td class=val><a href=\"http://purl.org/ProductKG/nonfoodingredient#Polymer\" target=\"_other\">http://purl.org/ProductKG/nonfoodingredient#Polymer</a></td>\n",
       "<td class=val></td>\n",
       "<td class=val></td></tr><tr class=odd><td class=val><a href=\"http://purl.org/ProductKG/nonfoodingredient#benzoic_acid\" target=\"_other\">http://purl.org/ProductKG/nonfoodingredient#benzoic_acid</a></td>\n",
       "<td class=val><a href=\"http://purl.org/ProductKG/nonfoodingredient#Acid\" target=\"_other\">http://purl.org/ProductKG/nonfoodingredient#Acid</a></td>\n",
       "<td class=val></td>\n",
       "<td class=val></td></tr><tr class=even><td class=val><a href=\"http://purl.org/ProductKG/nonfoodingredient#benzoic_acid\" target=\"_other\">http://purl.org/ProductKG/nonfoodingredient#benzoic_acid</a></td>\n",
       "<td class=val><a href=\"http://purl.org/ProductKG/nonfoodingredient#Benzoic_acid\" target=\"_other\">http://purl.org/ProductKG/nonfoodingredient#Benzoic_acid</a></td>\n",
       "<td class=val></td>\n",
       "<td class=val></td></tr><tr class=odd><td class=val><a href=\"http://purl.org/ProductKG/nonfoodingredient#c\" target=\"_other\">http://purl.org/ProductKG/nonfoodingredient#c</a></td>\n",
       "<td class=val><a href=\"http://purl.org/ProductKG/nonfoodingredient#Dye\" target=\"_other\">http://purl.org/ProductKG/nonfoodingredient#Dye</a></td>\n",
       "<td class=val></td>\n",
       "<td class=val></td></tr><tr class=even><td class=val><a href=\"http://purl.org/ProductKG/nonfoodingredient#dehydroacetic_acid\" target=\"_other\">http://purl.org/ProductKG/nonfoodingredient#dehydroacetic_acid</a></td>\n",
       "<td class=val><a href=\"http://purl.org/ProductKG/nonfoodingredient#Acid\" target=\"_other\">http://purl.org/ProductKG/nonfoodingredient#Acid</a></td>\n",
       "<td class=val></td>\n",
       "<td class=val></td></tr><tr class=odd><td class=val><a href=\"http://purl.org/ProductKG/nonfoodingredient#allantoin\" target=\"_other\">http://purl.org/ProductKG/nonfoodingredient#allantoin</a></td>\n",
       "<td class=val></td>\n",
       "<td class=val></td>\n",
       "<td class=val></td></tr><tr class=even><td class=val><a href=\"http://purl.org/ProductKG/nonfoodingredient#aqua\" target=\"_other\">http://purl.org/ProductKG/nonfoodingredient#aqua</a></td>\n",
       "<td class=val></td>\n",
       "<td class=val></td>\n",
       "<td class=val></td></tr></table><div class=\"tinfo\">Total: 19, Shown: 10</div></div>"
      ]
     },
     "metadata": {},
     "output_type": "display_data"
    }
   ],
   "source": [
    "%endpoint https://api.krr.triply.cc/datasets/mkumpel/ProductKG/sparql\n",
    "%format default\n",
    "%display table \n",
    "%show 10\n",
    "\n",
    "PREFIX rdf: <http://www.w3.org/1999/02/22-rdf-syntax-ns#>\n",
    "PREFIX gr: <http://purl.org/goodrelations/v1#>\n",
    "PREFIX tax: <http://purl.org/ProductKG/product-taxonomy#>\n",
    "PREFIX in: <http://purl.org/ProductKG/nonfoodingredient#>\n",
    "PREFIX owl: <http://www.w3.org/2002/07/owl#>\n",
    "\n",
    "SELECT ?ingredient ?iclass ?allergen ?aclass WHERE{\n",
    "    ?instance gr:hasEAN_UCC-13 \"4010355090935\".\n",
    "    ?instance in:has_ingredient ?ingredient.\n",
    "    OPTIONAL{?ingredient rdf:type ?iclass.\n",
    "             FILTER(?iclass != owl:NamedIndividual && ?iclass != in:Ingredient) }\n",
    "    OPTIONAL{?allergen owl:sameAs ?ingredient.\n",
    "             ?allergen rdf:type ?aclass.\n",
    "             FILTER(?aclass != owl:NamedIndividual)  }\n",
    "}"
   ]
  },
  {
   "cell_type": "markdown",
   "metadata": {},
   "source": [
    "## Exercise\n",
    "\n",
    "Get information about price and stock for the same product (\"4010355090935\").\n",
    "- Use the prefix `location` to access inventory data from the IRI `http://purl.org/ProductKG/location#`\n",
    "- Use the `http://purl.org/ProductKG/location#has_price` property to get the price of a product\n",
    "- Use the `http://purl.org/ProductKG/location#has_stock` property to get the stock of a product\n"
   ]
  },
  {
   "cell_type": "code",
   "execution_count": null,
   "metadata": {},
   "outputs": [],
   "source": []
  }
 ],
 "metadata": {
  "kernelspec": {
   "display_name": "SPARQL",
   "language": "sparql",
   "name": "sparql"
  },
  "language_info": {
   "codemirror_mode": {
    "name": "sparql"
   },
   "mimetype": "application/sparql-query",
   "name": "sparql",
   "pygments_lexer": "sparql-nb"
  }
 },
 "nbformat": 4,
 "nbformat_minor": 4
}
