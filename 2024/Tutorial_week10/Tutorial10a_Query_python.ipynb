{
 "cells": [
  {
   "cell_type": "markdown",
   "id": "e6827d05",
   "metadata": {},
   "source": [
    "## Querying a knowledge graph using python\n",
    "\n",
    "We will first focus on the previously introduced libraries rdflib and how to query a knowledge graph with them.\n",
    "\n",
    "If you start the Tutorials here, you need to install rdflib (`!pip install rdflib`).\n",
    "\n",
    "#### Here is an example how to query the retail product knowledge graph ProductKG (https://michaelakuempel.github.io/ProductKG/) for a list of all main classes using reflib:"
   ]
  },
  {
   "cell_type": "code",
   "execution_count": 1,
   "id": "a4b29c6e",
   "metadata": {},
   "outputs": [
    {
     "name": "stdout",
     "output_type": "stream",
     "text": [
      "Collecting rdflib\n",
      "  Downloading rdflib-7.0.0-py3-none-any.whl.metadata (11 kB)\n",
      "Collecting isodate<0.7.0,>=0.6.0 (from rdflib)\n",
      "  Downloading isodate-0.6.1-py2.py3-none-any.whl.metadata (9.6 kB)\n",
      "Requirement already satisfied: pyparsing<4,>=2.1.0 in /opt/conda/lib/python3.11/site-packages (from rdflib) (3.1.1)\n",
      "Requirement already satisfied: six in /opt/conda/lib/python3.11/site-packages (from isodate<0.7.0,>=0.6.0->rdflib) (1.16.0)\n",
      "Downloading rdflib-7.0.0-py3-none-any.whl (531 kB)\n",
      "\u001b[2K   \u001b[90m━━━━━━━━━━━━━━━━━━━━━━━━━━━━━━━━━━━━━━━━\u001b[0m \u001b[32m531.9/531.9 kB\u001b[0m \u001b[31m5.4 MB/s\u001b[0m eta \u001b[36m0:00:00\u001b[0ma \u001b[36m0:00:01\u001b[0m\n",
      "\u001b[?25hDownloading isodate-0.6.1-py2.py3-none-any.whl (41 kB)\n",
      "\u001b[2K   \u001b[90m━━━━━━━━━━━━━━━━━━━━━━━━━━━━━━━━━━━━━━━━\u001b[0m \u001b[32m41.7/41.7 kB\u001b[0m \u001b[31m1.9 MB/s\u001b[0m eta \u001b[36m0:00:00\u001b[0m\n",
      "\u001b[?25hInstalling collected packages: isodate, rdflib\n",
      "Successfully installed isodate-0.6.1 rdflib-7.0.0\n"
     ]
    }
   ],
   "source": [
    "!pip install rdflib"
   ]
  },
  {
   "cell_type": "code",
   "execution_count": 2,
   "id": "3c3df3a5",
   "metadata": {},
   "outputs": [
    {
     "name": "stdout",
     "output_type": "stream",
     "text": [
      "http://purl.org/ProductKG/user-profile#user\n",
      "http://purl.org/ProductKG/food-nutrition#Food\n",
      "http://purl.org/ProductKG/nutrition#nutritional_component\n",
      "http://www.loa-cnr.it/ontologies/DUL.owl#InformationEntity\n",
      "https://live.dbpedia.org/ontology/Demographics\n",
      "http://qudt.org/schema/qudt#Quantity\n",
      "http://purl.org/ProductKG/RecipeOn#IngredientSet\n",
      "http://purl.org/ProductKG/nonfoodingredient#Ingredient\n",
      "http://purl.org/ProductKG/symptom#Symptom\n",
      "http://purl.org/ProductKG/product-taxonomy#Product\n",
      "http://purl.org/ProductKG/allergen#Allergen\n",
      "http://purl.org/ProductKG/allergen#allergy\n",
      "http://purl.org/ProductKG/location#retail_lab_IAI\n",
      "http://purl.org/ProductKG/product-taxonomy.owl#Product\n",
      "http://purl.org/ProductKG/recycling.owl#Recycling\n",
      "http://purl.org/ProductKG/packaging.owl#Packaging\n",
      "http://www.ontologydesignpatterns.org/ont/dul/DUL.owl#PhysicalObject\n",
      "http://purl.org/ProductKG/symptom-nutrition#Information_Entity\n",
      "http://purl.org/ProductKG/user-profile#demographics\n"
     ]
    }
   ],
   "source": [
    "# import rdflib\n",
    "from rdflib import Graph, Literal, URIRef, Namespace\n",
    "# rdflib knows about quite a few popular namespaces, like W3C ontologies, schema.org etc\n",
    "from rdflib.namespace import OWL, RDF, RDFS\n",
    "\n",
    "g = Graph()\n",
    "\n",
    "# define prefixes to be used in the query \n",
    "g.bind(\"owl\", OWL)\n",
    "g.bind(\"rdfs\", RDFS)\n",
    "\n",
    "# the actual query comes here, we are accessing the triply graph database\n",
    "query = \"\"\"\n",
    "    SELECT ?s\n",
    "    WHERE {\n",
    "      SERVICE <http://knowledgedb.informatik.uni-bremen.de:3030/ds/query> {\n",
    "        ?s rdfs:subClassOf owl:Thing.\n",
    "      }\n",
    "    }\n",
    "    LIMIT 20\n",
    "    \"\"\"\n",
    "for row in g.query(query):\n",
    "    print(row.s)"
   ]
  },
  {
   "cell_type": "markdown",
   "id": "9c3ad647",
   "metadata": {},
   "source": [
    "#### The query can be modified to ask for all classes that are a subclass of the main product class by binding a new namespace:"
   ]
  },
  {
   "cell_type": "code",
   "execution_count": 3,
   "id": "a975dcb9",
   "metadata": {},
   "outputs": [
    {
     "name": "stdout",
     "output_type": "stream",
     "text": [
      "http://purl.org/ProductKG/product-taxonomy#housekeeping\n",
      "http://purl.org/ProductKG/product-taxonomy#baby/child\n",
      "http://purl.org/ProductKG/product-taxonomy#pet\n",
      "http://purl.org/ProductKG/product-taxonomy#Household\n",
      "http://purl.org/ProductKG/product-taxonomy#well-being\n",
      "http://knowrob.org/kb/shop.owl#CareProduct\n",
      "http://purl.org/ProductKG/product-taxonomy#cosmetics\n",
      "http://purl.org/ProductKG/product-taxonomy#plant\n",
      "http://purl.org/ProductKG/product-taxonomy#school/work\n",
      "http://knowrob.org/kb/shop.owl#HouseholdItem\n",
      "http://purl.org/ProductKG/product-taxonomy#travel\n",
      "http://purl.org/ProductKG/product-taxonomy#groceries\n",
      "http://purl.org/ProductKG/product-taxonomy#textile\n"
     ]
    }
   ],
   "source": [
    "# define new prefix\n",
    "g.bind(\"gr\", \"http://purl.org/goodrelations/v1#\")\n",
    "\n",
    "query = \"\"\"\n",
    "    SELECT ?s\n",
    "    WHERE {\n",
    "      SERVICE <http://knowledgedb.informatik.uni-bremen.de:3030/ds/query> {\n",
    "        ?s rdfs:subClassOf gr:ProductOrService.\n",
    "      }\n",
    "    }\n",
    "    LIMIT 20\n",
    "    \"\"\"\n",
    "for row in g.query(query):\n",
    "    print(row.s)"
   ]
  },
  {
   "cell_type": "markdown",
   "id": "42e922ef",
   "metadata": {},
   "source": []
  }
 ],
 "metadata": {
  "kernelspec": {
   "display_name": "Python 3 (ipykernel)",
   "language": "python",
   "name": "python3"
  },
  "language_info": {
   "codemirror_mode": {
    "name": "ipython",
    "version": 3
   },
   "file_extension": ".py",
   "mimetype": "text/x-python",
   "name": "python",
   "nbconvert_exporter": "python",
   "pygments_lexer": "ipython3",
   "version": "3.11.6"
  }
 },
 "nbformat": 4,
 "nbformat_minor": 5
}
