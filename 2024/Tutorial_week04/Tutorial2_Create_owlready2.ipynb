{
 "cells": [
  {
   "cell_type": "markdown",
   "id": "788a8fd4",
   "metadata": {},
   "source": [
    "## Creating a knowledge graph, part 2\n",
    "\n",
    "#### Let us create a simple triple example using owlready2: We will again create a product knowledge graph!\n",
    "We first need to install owlready2:"
   ]
  },
  {
   "cell_type": "code",
   "execution_count": 1,
   "id": "b43f71ec",
   "metadata": {},
   "outputs": [
    {
     "name": "stdout",
     "output_type": "stream",
     "text": [
      "Collecting owlready2\n",
      "  Downloading owlready2-0.46.tar.gz (27.4 MB)\n",
      "\u001b[2K     \u001b[90m━━━━━━━━━━━━━━━━━━━━━━━━━━━━━━━━━━━━━━━━\u001b[0m \u001b[32m27.4/27.4 MB\u001b[0m \u001b[31m12.5 MB/s\u001b[0m eta \u001b[36m0:00:00\u001b[0m00:01\u001b[0m00:01\u001b[0m\n",
      "\u001b[?25h  Installing build dependencies ... \u001b[?25ldone\n",
      "\u001b[?25h  Getting requirements to build wheel ... \u001b[?25ldone\n",
      "\u001b[?25h  Preparing metadata (pyproject.toml) ... \u001b[?25ldone\n",
      "\u001b[?25hBuilding wheels for collected packages: owlready2\n",
      "  Building wheel for owlready2 (pyproject.toml) ... \u001b[?25ldone\n",
      "\u001b[?25h  Created wheel for owlready2: filename=owlready2-0.46-cp310-cp310-linux_x86_64.whl size=23551473 sha256=fb2d7dfe2f9f2cd2d4c8aef9797d15276011d4560bfbbc9403d674a376b4b0a5\n",
      "  Stored in directory: /home/jovyan/.cache/pip/wheels/bf/6f/ef/35df148baa59fc6b243aca4f101e17aed14b67dc1166b73fe0\n",
      "Successfully built owlready2\n",
      "Installing collected packages: owlready2\n",
      "Successfully installed owlready2-0.46\n"
     ]
    }
   ],
   "source": [
    "!pip install owlready2"
   ]
  },
  {
   "cell_type": "markdown",
   "id": "72ccc4fd",
   "metadata": {},
   "source": [
    "Then we can start using owlready:\n",
    "- first create the ontology file:"
   ]
  },
  {
   "cell_type": "code",
   "execution_count": 2,
   "id": "d54c7998",
   "metadata": {},
   "outputs": [
    {
     "data": {
      "text/plain": [
       "'http://test.org/productkg#'"
      ]
     },
     "execution_count": 2,
     "metadata": {},
     "output_type": "execute_result"
    }
   ],
   "source": [
    "from owlready2 import *\n",
    "\n",
    "onto = get_ontology(\"http://test.org/productkg\")\n",
    "\n",
    "# Print base iri for ontology\n",
    "onto.base_iri"
   ]
  },
  {
   "cell_type": "markdown",
   "id": "641f9777",
   "metadata": {},
   "source": [
    "With the keyword `class` we are able to create new classes and name them.\n",
    " - we can create a Bremen class as subclass of the main `Thing` class "
   ]
  },
  {
   "cell_type": "code",
   "execution_count": 3,
   "id": "5465de4a",
   "metadata": {},
   "outputs": [],
   "source": [
    "class Product(Thing):\n",
    "    namespace = onto"
   ]
  },
  {
   "cell_type": "markdown",
   "id": "e6ab10a3",
   "metadata": {},
   "source": [
    "- the results can be printed using the subclass of statement:"
   ]
  },
  {
   "cell_type": "code",
   "execution_count": 5,
   "id": "6e31df58",
   "metadata": {},
   "outputs": [
    {
     "data": {
      "text/plain": [
       "[productkg.Product]"
      ]
     },
     "execution_count": 5,
     "metadata": {},
     "output_type": "execute_result"
    }
   ],
   "source": [
    "list(Thing.subclasses())"
   ]
  },
  {
   "cell_type": "markdown",
   "id": "d8d0413e",
   "metadata": {},
   "source": [
    "We can also use the ancestors function like this:"
   ]
  },
  {
   "cell_type": "code",
   "execution_count": 6,
   "id": "8074cc65",
   "metadata": {},
   "outputs": [
    {
     "data": {
      "text/plain": [
       "('http://test.org/productkg#Product', {owl.Thing, productkg.Product})"
      ]
     },
     "execution_count": 6,
     "metadata": {},
     "output_type": "execute_result"
    }
   ],
   "source": [
    "# Note that the ancestors method returns a set of descendants including self\n",
    "superclass = Product.ancestors()\n",
    "Product.iri, superclass"
   ]
  },
  {
   "cell_type": "markdown",
   "id": "7ad59cc8",
   "metadata": {},
   "source": [
    "- now, let us create a shampoo class and individual as an instance of a shampoo:"
   ]
  },
  {
   "cell_type": "code",
   "execution_count": 7,
   "id": "cea880bd",
   "metadata": {},
   "outputs": [
    {
     "name": "stdout",
     "output_type": "stream",
     "text": [
      "ElvitalShampoo http://test.org/productkg#ElvitalShampoo\n"
     ]
    }
   ],
   "source": [
    "class Shampoo(Product):\n",
    "    pass\n",
    "\n",
    "elvitalshampoo = Shampoo(\"ElvitalShampoo\")\n",
    "\n",
    "print(elvitalshampoo.name, elvitalshampoo.iri)"
   ]
  },
  {
   "cell_type": "markdown",
   "id": "d84a90c6",
   "metadata": {},
   "source": [
    "- since properties are a little more tricky (since different to rdflib) in owlready, I provide you the property definition for city population here:"
   ]
  },
  {
   "cell_type": "code",
   "execution_count": 8,
   "id": "aa21f264",
   "metadata": {},
   "outputs": [
    {
     "name": "stdout",
     "output_type": "stream",
     "text": [
      "Elvital\n"
     ]
    }
   ],
   "source": [
    "with onto:\n",
    "    class hasBrand(DataProperty, FunctionalProperty):\n",
    "        pass\n",
    "    \n",
    "elvitalshampoo.hasBrand = \"Elvital\"\n",
    "\n",
    "print(elvitalshampoo.hasBrand)"
   ]
  },
  {
   "cell_type": "markdown",
   "id": "e8a8917e-29fc-43d3-b19d-cca5568e7568",
   "metadata": {},
   "source": [
    "# Exercise\n",
    "\n",
    "Now go ahead and create another <b>class Bodylotion</b> and a <b>class Ingredient</b>.\n",
    "Then create an instance of the Bodylotion class, maybe called <b>NeutrogenaBodylotion</b>, which has the relation <b>has_ingredient</b> to the ingredient <b>fragrance</b>. Note: this is an object property. Check the owlready docs how to create it (https://owlready2.readthedocs.io/).\n",
    "\n",
    "Additionally, let us create a <b>class user, or person (as subClassOf Thing)</b>. The user should have properties according to the foaf properties (see foaf vocabulary here: http://xmlns.com/foaf/spec/).\n",
    "Fitting properties might be <b>age, name, gender</b>.\n",
    "Add 6 instances of the user, 3 male, 3 female.\n",
    "\n",
    "Last but not least, save your ontology, using the following command. Then download it to your device.\n",
    "\n",
    "onto.save(file = \"ProductToUser.owl\", format = \"rdfxml\")\n"
   ]
  },
  {
   "cell_type": "code",
   "execution_count": null,
   "id": "8e4819ab-31c4-4dc1-8359-dc95f8f9fccf",
   "metadata": {},
   "outputs": [],
   "source": []
  }
 ],
 "metadata": {
  "kernelspec": {
   "display_name": "Python 3 (ipykernel)",
   "language": "python",
   "name": "python3"
  },
  "language_info": {
   "codemirror_mode": {
    "name": "ipython",
    "version": 3
   },
   "file_extension": ".py",
   "mimetype": "text/x-python",
   "name": "python",
   "nbconvert_exporter": "python",
   "pygments_lexer": "ipython3",
   "version": "3.11.6"
  }
 },
 "nbformat": 4,
 "nbformat_minor": 5
}
