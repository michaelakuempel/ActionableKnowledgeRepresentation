{
 "cells": [
  {
   "cell_type": "markdown",
   "id": "4fd86cdb-53c6-456f-8115-1a5ee877c8ab",
   "metadata": {},
   "source": [
    "## Ontology Alignment\n",
    "\n",
    "In this Tutorial we will align the taxonomy created in Tutorial 6 with an upper ontology"
   ]
  },
  {
   "cell_type": "code",
   "execution_count": null,
   "id": "875f560f-c103-4b16-8449-70b359676a82",
   "metadata": {
    "ExecuteTime": {
     "end_time": "2024-05-17T10:18:29.366707Z",
     "start_time": "2024-05-17T10:18:25.280655Z"
    }
   },
   "outputs": [],
   "source": [
    "!pip install owlready2\n",
    "!pip install thefuzz\n",
    "!pip install nltk"
   ]
  },
  {
   "cell_type": "code",
   "execution_count": null,
   "id": "1182b4b1",
   "metadata": {},
   "outputs": [],
   "source": [
    "import nltk\n",
    "nltk.download('wordnet')"
   ]
  },
  {
   "cell_type": "code",
   "execution_count": null,
   "id": "7779483b",
   "metadata": {},
   "outputs": [],
   "source": [
    "# Use this cell if the 'owlready2' module cannot be found in the steps below\n",
    "# Adapt the path accordingly for your user\n",
    "import sys\n",
    "modulename = 'owlready2'\n",
    "if modulename not in sys.modules:\n",
    "    sys.path.append('path to your Python packages (e.g. /home/USER/.local/lib/python3.13/site-packages)')"
   ]
  },
  {
   "cell_type": "markdown",
   "id": "43348495-873d-40fd-b85a-748a96c8a80f",
   "metadata": {},
   "source": [
    "### Let us first load an upper ontology, here DUL, and list its content"
   ]
  },
  {
   "cell_type": "code",
   "execution_count": null,
   "id": "3bc80499-fa22-47b8-99de-a430405dc258",
   "metadata": {
    "ExecuteTime": {
     "end_time": "2024-05-17T10:18:34.219351Z",
     "start_time": "2024-05-17T10:18:33.649719Z"
    }
   },
   "outputs": [],
   "source": [
    "from owlready2 import *\n",
    "\n",
    "onto = get_ontology(\"http://www.ease-crc.org/ont/DUL.owl\").load()\n",
    "\n",
    "list(onto.classes())"
   ]
  },
  {
   "cell_type": "markdown",
   "id": "d9888d13-8b42-43a9-bcf2-3abc50d545eb",
   "metadata": {},
   "source": [
    "#### Let us get the class relations\n",
    "\n",
    "For this, we create a second namespace for the loaded ontology (dul), and list subclasses\n",
    "\n",
    "We can do this until we reach a class that might be a fit as upper class"
   ]
  },
  {
   "cell_type": "code",
   "execution_count": null,
   "id": "e7219208-cbca-4401-ad85-105f6012f07f",
   "metadata": {
    "ExecuteTime": {
     "end_time": "2024-05-16T07:19:03.484551Z",
     "start_time": "2024-05-16T07:19:03.478150100Z"
    }
   },
   "outputs": [],
   "source": [
    "dul = get_namespace(\"http://www.ontologydesignpatterns.org/ont/dul/DUL.owl#\")\n",
    "                    \n",
    "list(dul.Entity.subclasses())"
   ]
  },
  {
   "cell_type": "code",
   "execution_count": null,
   "id": "68f3b402-e1db-44d6-a1e8-ca78984e60ca",
   "metadata": {
    "ExecuteTime": {
     "end_time": "2024-05-16T07:19:03.495199300Z",
     "start_time": "2024-05-16T07:19:03.485567400Z"
    }
   },
   "outputs": [],
   "source": [
    "list(dul.Object.subclasses())"
   ]
  },
  {
   "cell_type": "code",
   "execution_count": null,
   "id": "eae9dc7b-8812-4712-8012-dc1e3fba6a1d",
   "metadata": {
    "ExecuteTime": {
     "end_time": "2024-05-16T07:19:03.496199100Z",
     "start_time": "2024-05-16T07:19:03.490899300Z"
    }
   },
   "outputs": [],
   "source": [
    "list(dul.PhysicalObject.subclasses())"
   ]
  },
  {
   "cell_type": "markdown",
   "id": "b94e475b-5b40-48b2-9d64-ebfdd52aae0e",
   "metadata": {},
   "source": [
    "#### Now we reached a point where I am unsure what the difference between a physical object and a physical artifact is. In such situations, we can access the ontologie to get the class comment (rdfs.comment annotation property) \n",
    "\n",
    "Note that the rdfs namespace is automatically loaded just as well as the owl namespace, which makes things easier."
   ]
  },
  {
   "cell_type": "code",
   "execution_count": null,
   "id": "fb0d5ae3-c907-4422-bf66-2e60901f78ee",
   "metadata": {
    "ExecuteTime": {
     "end_time": "2024-05-16T07:19:03.508840200Z",
     "start_time": "2024-05-16T07:19:03.496199100Z"
    }
   },
   "outputs": [],
   "source": [
    "print(dul.PhysicalArtifact.comment)"
   ]
  },
  {
   "cell_type": "markdown",
   "id": "e2f3c764-0339-405e-9deb-e556affa3949",
   "metadata": {},
   "source": [
    "#### At this point I personally decide to stop my search. Our goal is to align our products from the product taxonomy to the DUL top level ontology. I argue that products are physical objects, but with the above definition are not physical artifacts (since products often are structurally designed, like a shampoo that is designed for a certain use). Therefore, we should align our products to be a subclass of the physical object class."
   ]
  },
  {
   "cell_type": "markdown",
   "id": "15290863-03f4-4574-8e8d-4a53473edfb9",
   "metadata": {},
   "source": [
    "### In a second step we want to also load our product taxonomy created in Tutorial 6 and align it with the DUL ontology\n",
    "\n",
    "#### For this, please upload the saved ontology to this jupyter notebook (if you are using the dockerized version).\n",
    "\n",
    "The ontology alignment in this case is to assign the product class as a subclass of the DUL.PhysicalObject class\n",
    "\n",
    "#### To load the file, we now have to use second name. Print the classes to make sure you loaded correctly"
   ]
  },
  {
   "cell_type": "code",
   "execution_count": null,
   "id": "6758de98-a67f-40c6-afbf-e13542861941",
   "metadata": {
    "ExecuteTime": {
     "end_time": "2024-05-16T07:19:03.599688800Z",
     "start_time": "2024-05-16T07:19:03.500841200Z"
    }
   },
   "outputs": [],
   "source": [
    "prod = get_ontology(\"ProductTaxonomyFromLidl.owl\").load()\n",
    "\n",
    "list(prod.classes())"
   ]
  },
  {
   "cell_type": "markdown",
   "id": "fe736bd2-cb04-4438-b212-872a1468aebc",
   "metadata": {},
   "source": [
    "#### Let us again assign a new namespace for the product taxonomy"
   ]
  },
  {
   "cell_type": "code",
   "execution_count": null,
   "id": "0116dc27-48f3-4d57-9492-7f2b9120fbab",
   "metadata": {
    "ExecuteTime": {
     "start_time": "2024-05-16T07:19:03.551661400Z"
    }
   },
   "outputs": [],
   "source": [
    "tax = get_namespace(\"http://ProductTaxonomyFromLidl.owl#\")\n",
    "\n",
    "print(tax.Product.iri)"
   ]
  },
  {
   "cell_type": "markdown",
   "id": "2dcf3f58-e7e9-4a48-9ecb-6a10bb647b34",
   "metadata": {},
   "source": [
    "## Now on to actually aligning the ontologies!\n",
    "\n",
    "#### This can now be easily done by assigning the product class from the product taxonomy file as a subclass of the dul upper ontology."
   ]
  },
  {
   "cell_type": "code",
   "execution_count": null,
   "id": "fcc41b16-e93a-4eab-a216-41a183ce6cbe",
   "metadata": {
    "ExecuteTime": {
     "start_time": "2024-05-16T07:19:03.553661900Z"
    }
   },
   "outputs": [],
   "source": [
    "with onto: \n",
    "    tax.Product.is_a.append(dul.PhysicalObject)\n",
    "\n",
    "list(dul.PhysicalObject.subclasses())"
   ]
  },
  {
   "cell_type": "markdown",
   "id": "6afe5f4f-2c30-424b-a3d8-986a47c8b7ae",
   "metadata": {},
   "source": [
    "### Unfortunately, we need to do this for all subclasses of the product class as well."
   ]
  },
  {
   "cell_type": "code",
   "execution_count": null,
   "id": "9a7a70c9-9387-4bb0-8b08-f46e355d5491",
   "metadata": {
    "ExecuteTime": {
     "start_time": "2024-05-16T07:19:03.556658900Z"
    }
   },
   "outputs": [],
   "source": [
    "for i in tax.Product.subclasses():\n",
    "    # Clear all subClassOf relationships or else it will not append this class to the Product class in the AlignedOntology\n",
    "    # As long as you don't save the LIDL Product taxonomy, these destroyed relationships are not persisted.\n",
    "    i.is_a = []\n",
    "    with onto:\n",
    "        i.is_a.append(tax.Product)"
   ]
  },
  {
   "cell_type": "markdown",
   "id": "fc996e30-f9e4-42fb-9a59-0d16360910e1",
   "metadata": {},
   "source": [
    "#### Let us save the aligned ontology"
   ]
  },
  {
   "cell_type": "code",
   "execution_count": null,
   "id": "ef2d4c34-7dbd-4a17-856a-109580de5b53",
   "metadata": {
    "ExecuteTime": {
     "start_time": "2024-05-16T07:19:03.558658900Z"
    }
   },
   "outputs": [],
   "source": [
    "onto.save(file = \"AlignedOntology.owl\", format = \"rdfxml\")"
   ]
  },
  {
   "cell_type": "markdown",
   "id": "d6a82216",
   "metadata": {},
   "source": [
    "## Entity Matching\n",
    "\n",
    "In the following we will automatically link the Product subclasses from the LIDL ontology to fitting Product classes from the [GoodRelations ontology](http://www.heppnetz.de/projects/goodrelations/) using the 'hasDbXref' property.\n",
    "First we will use the ['thefuzz' library](https://pypi.org/project/thefuzz/) to calculate the [Levenshtein distance](https://en.wikipedia.org/wiki/Levenshtein_distance) between two classes, represented by their label.\n",
    "If the resulting score is above a specified threshold, both classes are matched.\n",
    "If no match is found, we use WordNet to iterate over all possible synonyms of the class label and chose the highest matching one. "
   ]
  },
  {
   "cell_type": "code",
   "execution_count": null,
   "id": "a8e7e083-2dcc-4c8b-a0e7-474c5bc9fb71",
   "metadata": {
    "ExecuteTime": {
     "start_time": "2024-05-16T07:19:03.559661Z"
    }
   },
   "outputs": [],
   "source": [
    "link_foodon = get_ontology(\"linkFoodOn.owl\").load()\n",
    "taxonomy = get_ontology(\"product-taxonomy.owl\").load()\n",
    "\n",
    "# Define namespaces\n",
    "gr = get_namespace(\"http://purl.org/goodrelations/v1#\")\n",
    "obo = get_namespace(\"http://www.geneontology.org/formats/oboInOwl#\")\n",
    "\n",
    "#Top-level concept of all products.\n",
    "product_service = gr[\"ProductOrService\"]\n",
    "print(product_service.iri)"
   ]
  },
  {
   "cell_type": "code",
   "execution_count": null,
   "id": "95c8ea4b",
   "metadata": {},
   "outputs": [],
   "source": [
    "with onto:\n",
    "    class hasDbXref(AnnotationProperty):\n",
    "        namespace = obo"
   ]
  },
  {
   "cell_type": "code",
   "execution_count": null,
   "id": "49c8a797",
   "metadata": {},
   "outputs": [],
   "source": [
    "from thefuzz import process\n",
    "from nltk.corpus import wordnet\n",
    "\n",
    "match_thresh = 75\n",
    "label_cls = {}\n",
    "\n",
    "# Create k,v pair of label 'en' with its associated class\n",
    "for product_category in product_service.descendants():\n",
    "        labels = product_category.label\n",
    "        if len(labels) == 0:\n",
    "            continue\n",
    "     \n",
    "        labels = [l for l in labels if isinstance(l, owlready2.util.locstr) and l.lang == 'en']\n",
    "        if len(labels) == 0:\n",
    "            continue\n",
    "        label = labels[0].lower()\n",
    "        label_cls.update({label: product_category})\n",
    "#print(label_cls)\n",
    "        \n",
    "\"\"\" Apply distance based string matching onto lidl product classes and find a matching \n",
    "    class from the product-taxonomy \n",
    "\n",
    "    We don't find matching classes based on semantic similarity. \n",
    "\"\"\"\n",
    "for product_category in prod.Product.subclasses():\n",
    "    products = product_category.label\n",
    "    assert len(products) == 1\n",
    "    labels = products[0].split(\"&\")\n",
    "    \n",
    "    matched = ''\n",
    "    high_score = -1\n",
    "    for label in labels:     \n",
    "        label = label.lower().strip()\n",
    "        match = process.extractOne(label, label_cls.keys())\n",
    "        if match[1] >= match_thresh:      \n",
    "            if match[1] > high_score:\n",
    "                high_score = match[1]\n",
    "                matched = match[0]\n",
    "        else:\n",
    "            # use synonyms to match by gathering all synsets\n",
    "            synsets = wordnet.synsets(label)\n",
    "            for syn in synsets:\n",
    "                # iterate over all synsets & look for the best match:\n",
    "                for synonym in syn.lemma_names():\n",
    "                    match = process.extractOne(synonym, label_cls.keys())     \n",
    "                    if match[1] > high_score:\n",
    "                        high_score = match[1]\n",
    "                        matched = match[0]\n",
    "        \n",
    "    with onto:\n",
    "        print(f'\\'{product_category.name}\\' from LIDL taxonomy matched against \\'{label_cls.get(matched).name}\\' from product-taxonomy with score {high_score}')    \n",
    "        product_category.hasDbXref = label_cls.get(matched)"
   ]
  },
  {
   "cell_type": "markdown",
   "id": "eb066d24",
   "metadata": {},
   "source": [
    "#### Let us save the matchings in the ontology"
   ]
  },
  {
   "cell_type": "code",
   "execution_count": null,
   "id": "d36914ca",
   "metadata": {},
   "outputs": [],
   "source": [
    "onto.save(file = \"AlignedOntology.owl\", format = \"rdfxml\")"
   ]
  },
  {
   "cell_type": "code",
   "execution_count": null,
   "id": "3c54c373",
   "metadata": {},
   "outputs": [],
   "source": []
  }
 ],
 "metadata": {
  "kernelspec": {
   "display_name": "Python 3 (ipykernel)",
   "language": "python",
   "name": "python3"
  },
  "language_info": {
   "codemirror_mode": {
    "name": "ipython",
    "version": 3
   },
   "file_extension": ".py",
   "mimetype": "text/x-python",
   "name": "python",
   "nbconvert_exporter": "python",
   "pygments_lexer": "ipython3",
   "version": "3.8.10"
  }
 },
 "nbformat": 4,
 "nbformat_minor": 5
}
